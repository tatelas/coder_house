{
 "cells": [
  {
   "cell_type": "markdown",
   "id": "e64129eb",
   "metadata": {},
   "source": [
    "Hay una formula a seguir a la hora de juntar jugadores para que formen una pareja de padel?\n",
    "\n",
    "El objetivo del trabajo es evaluar si hay combinaciones entre jugadores de padel que tengan mas probabilidades de ganar un partido y tambien si hay combinaciones con pocas probabilidades de exito. Para esto analizaremos las estadisticas de juego de cada uno y las estadisticas de los partidos, diferenciando equipo que ganó el set y equipo que lo perdió\n",
    "\n",
    "Un aspecto particular del padel es que se puede cambiar de pareja varias veces al año, si un jugador quiere cambiar de compañero, lo puede hacer sin restricciones. Esto es una herramienta muy utilizada por los jugadores para sobrellevar los malos resultados, con sus pros y contras\n",
    "\n",
    "\n",
    "Aplicacion estrategica: es importante destacar, que a diferencia de otros deportes, el padel es un deporte en crecimiento y los premios monetarios que representan una real diferencia económica son para los primeros puestos del torneo, por lo que, encontrar una fórmula para maximizar las posibilidades de terminar entre los primeros, es decisivo para la carrera de un jugador de padel profesional y los entrenadores, que también van cambiando según cambian las parejas. "
   ]
  },
  {
   "cell_type": "code",
   "execution_count": 1,
   "id": "0bf6d89c",
   "metadata": {},
   "outputs": [],
   "source": [
    "import numpy as np\n",
    "import pandas as pd\n",
    "from matplotlib import pyplot as plt\n",
    "import seaborn as sns\n",
    "from sklearn.cluster import KMeans\n",
    "\n",
    "from sklearn.decomposition import PCA\n",
    "from sklearn.pipeline import make_pipeline\n",
    "from sklearn.preprocessing import StandardScaler\n",
    "from sklearn.preprocessing import scale\n",
    "import statsmodels.api as sm\n",
    "from scipy.cluster.hierarchy import linkage, dendrogram"
   ]
  },
  {
   "cell_type": "code",
   "execution_count": 2,
   "id": "022205ac",
   "metadata": {},
   "outputs": [],
   "source": [
    "df_data = pd.read_excel(\"_ml_jug.xlsx\")"
   ]
  },
  {
   "cell_type": "markdown",
   "id": "830540b0",
   "metadata": {},
   "source": [
    "Análisis del dataset"
   ]
  },
  {
   "cell_type": "code",
   "execution_count": 3,
   "id": "7dff4c59",
   "metadata": {},
   "outputs": [
    {
     "data": {
      "text/plain": [
       "(1256, 26)"
      ]
     },
     "execution_count": 3,
     "metadata": {},
     "output_type": "execute_result"
    }
   ],
   "source": [
    "df_data.shape"
   ]
  },
  {
   "cell_type": "code",
   "execution_count": 4,
   "id": "e5044cd2",
   "metadata": {},
   "outputs": [
    {
     "data": {
      "text/plain": [
       "Index(['nombre', 'edad', 'alt', 'pos', 'torneo', 'set', 'saque', 'NF_total',\n",
       "       'w_total', 'sm_total', 'nsmtotal', 'prec sm%', 'csm', 'fondo', 'm3',\n",
       "       'm5', 'm7', 'pts_ganados', 'games_jug', 'circuito', 'fase', 'mano',\n",
       "       'spcsm', 'bloc', 'partido', 'nfr'],\n",
       "      dtype='object')"
      ]
     },
     "execution_count": 4,
     "metadata": {},
     "output_type": "execute_result"
    }
   ],
   "source": [
    "df_data.columns"
   ]
  },
  {
   "cell_type": "code",
   "execution_count": 5,
   "id": "6ff2acb9",
   "metadata": {
    "scrolled": true
   },
   "outputs": [
    {
     "data": {
      "text/html": [
       "<div>\n",
       "<style scoped>\n",
       "    .dataframe tbody tr th:only-of-type {\n",
       "        vertical-align: middle;\n",
       "    }\n",
       "\n",
       "    .dataframe tbody tr th {\n",
       "        vertical-align: top;\n",
       "    }\n",
       "\n",
       "    .dataframe thead th {\n",
       "        text-align: right;\n",
       "    }\n",
       "</style>\n",
       "<table border=\"1\" class=\"dataframe\">\n",
       "  <thead>\n",
       "    <tr style=\"text-align: right;\">\n",
       "      <th></th>\n",
       "      <th>edad</th>\n",
       "      <th>alt</th>\n",
       "      <th>saque</th>\n",
       "      <th>NF_total</th>\n",
       "      <th>w_total</th>\n",
       "      <th>sm_total</th>\n",
       "      <th>nsmtotal</th>\n",
       "      <th>prec sm%</th>\n",
       "      <th>csm</th>\n",
       "      <th>fondo</th>\n",
       "      <th>m3</th>\n",
       "      <th>m5</th>\n",
       "      <th>m7</th>\n",
       "      <th>pts_ganados</th>\n",
       "      <th>games_jug</th>\n",
       "      <th>spcsm</th>\n",
       "      <th>bloc</th>\n",
       "      <th>nfr</th>\n",
       "    </tr>\n",
       "  </thead>\n",
       "  <tbody>\n",
       "    <tr>\n",
       "      <th>count</th>\n",
       "      <td>1256.00</td>\n",
       "      <td>1256.00</td>\n",
       "      <td>1256.0</td>\n",
       "      <td>1256.00</td>\n",
       "      <td>1256.00</td>\n",
       "      <td>1256.00</td>\n",
       "      <td>1256.00</td>\n",
       "      <td>940.00</td>\n",
       "      <td>1256.00</td>\n",
       "      <td>1256.00</td>\n",
       "      <td>1256.00</td>\n",
       "      <td>1256.00</td>\n",
       "      <td>1256.00</td>\n",
       "      <td>1256.00</td>\n",
       "      <td>1256.00</td>\n",
       "      <td>552.00</td>\n",
       "      <td>552.00</td>\n",
       "      <td>192.00</td>\n",
       "    </tr>\n",
       "    <tr>\n",
       "      <th>mean</th>\n",
       "      <td>27.04</td>\n",
       "      <td>1.81</td>\n",
       "      <td>1.5</td>\n",
       "      <td>2.01</td>\n",
       "      <td>3.45</td>\n",
       "      <td>1.61</td>\n",
       "      <td>0.85</td>\n",
       "      <td>64.90</td>\n",
       "      <td>0.36</td>\n",
       "      <td>0.25</td>\n",
       "      <td>1.06</td>\n",
       "      <td>1.74</td>\n",
       "      <td>3.69</td>\n",
       "      <td>6.49</td>\n",
       "      <td>4.72</td>\n",
       "      <td>0.45</td>\n",
       "      <td>0.17</td>\n",
       "      <td>1.58</td>\n",
       "    </tr>\n",
       "    <tr>\n",
       "      <th>std</th>\n",
       "      <td>6.03</td>\n",
       "      <td>0.05</td>\n",
       "      <td>0.5</td>\n",
       "      <td>1.56</td>\n",
       "      <td>2.41</td>\n",
       "      <td>1.76</td>\n",
       "      <td>1.16</td>\n",
       "      <td>33.92</td>\n",
       "      <td>0.69</td>\n",
       "      <td>0.53</td>\n",
       "      <td>1.23</td>\n",
       "      <td>1.56</td>\n",
       "      <td>2.27</td>\n",
       "      <td>3.36</td>\n",
       "      <td>0.88</td>\n",
       "      <td>0.71</td>\n",
       "      <td>0.48</td>\n",
       "      <td>1.39</td>\n",
       "    </tr>\n",
       "    <tr>\n",
       "      <th>min</th>\n",
       "      <td>18.00</td>\n",
       "      <td>1.67</td>\n",
       "      <td>1.0</td>\n",
       "      <td>0.00</td>\n",
       "      <td>0.00</td>\n",
       "      <td>0.00</td>\n",
       "      <td>0.00</td>\n",
       "      <td>0.00</td>\n",
       "      <td>0.00</td>\n",
       "      <td>0.00</td>\n",
       "      <td>0.00</td>\n",
       "      <td>0.00</td>\n",
       "      <td>0.00</td>\n",
       "      <td>0.00</td>\n",
       "      <td>3.00</td>\n",
       "      <td>0.00</td>\n",
       "      <td>0.00</td>\n",
       "      <td>0.00</td>\n",
       "    </tr>\n",
       "    <tr>\n",
       "      <th>25%</th>\n",
       "      <td>23.00</td>\n",
       "      <td>1.76</td>\n",
       "      <td>1.0</td>\n",
       "      <td>1.00</td>\n",
       "      <td>2.00</td>\n",
       "      <td>0.00</td>\n",
       "      <td>0.00</td>\n",
       "      <td>50.00</td>\n",
       "      <td>0.00</td>\n",
       "      <td>0.00</td>\n",
       "      <td>0.00</td>\n",
       "      <td>1.00</td>\n",
       "      <td>2.00</td>\n",
       "      <td>4.00</td>\n",
       "      <td>4.00</td>\n",
       "      <td>0.00</td>\n",
       "      <td>0.00</td>\n",
       "      <td>0.00</td>\n",
       "    </tr>\n",
       "    <tr>\n",
       "      <th>50%</th>\n",
       "      <td>26.00</td>\n",
       "      <td>1.80</td>\n",
       "      <td>1.5</td>\n",
       "      <td>2.00</td>\n",
       "      <td>3.00</td>\n",
       "      <td>1.00</td>\n",
       "      <td>0.00</td>\n",
       "      <td>67.00</td>\n",
       "      <td>0.00</td>\n",
       "      <td>0.00</td>\n",
       "      <td>1.00</td>\n",
       "      <td>1.00</td>\n",
       "      <td>3.00</td>\n",
       "      <td>6.00</td>\n",
       "      <td>5.00</td>\n",
       "      <td>0.00</td>\n",
       "      <td>0.00</td>\n",
       "      <td>1.00</td>\n",
       "    </tr>\n",
       "    <tr>\n",
       "      <th>75%</th>\n",
       "      <td>29.00</td>\n",
       "      <td>1.85</td>\n",
       "      <td>2.0</td>\n",
       "      <td>3.00</td>\n",
       "      <td>5.00</td>\n",
       "      <td>2.00</td>\n",
       "      <td>1.00</td>\n",
       "      <td>100.00</td>\n",
       "      <td>1.00</td>\n",
       "      <td>0.00</td>\n",
       "      <td>2.00</td>\n",
       "      <td>3.00</td>\n",
       "      <td>5.00</td>\n",
       "      <td>9.00</td>\n",
       "      <td>5.00</td>\n",
       "      <td>1.00</td>\n",
       "      <td>0.00</td>\n",
       "      <td>3.00</td>\n",
       "    </tr>\n",
       "    <tr>\n",
       "      <th>max</th>\n",
       "      <td>47.00</td>\n",
       "      <td>1.90</td>\n",
       "      <td>2.0</td>\n",
       "      <td>9.00</td>\n",
       "      <td>13.00</td>\n",
       "      <td>9.00</td>\n",
       "      <td>7.00</td>\n",
       "      <td>100.00</td>\n",
       "      <td>6.00</td>\n",
       "      <td>3.00</td>\n",
       "      <td>9.00</td>\n",
       "      <td>9.00</td>\n",
       "      <td>15.00</td>\n",
       "      <td>17.00</td>\n",
       "      <td>6.00</td>\n",
       "      <td>3.00</td>\n",
       "      <td>3.00</td>\n",
       "      <td>6.00</td>\n",
       "    </tr>\n",
       "  </tbody>\n",
       "</table>\n",
       "</div>"
      ],
      "text/plain": [
       "          edad      alt   saque  NF_total  w_total  sm_total  nsmtotal  \\\n",
       "count  1256.00  1256.00  1256.0   1256.00  1256.00   1256.00   1256.00   \n",
       "mean     27.04     1.81     1.5      2.01     3.45      1.61      0.85   \n",
       "std       6.03     0.05     0.5      1.56     2.41      1.76      1.16   \n",
       "min      18.00     1.67     1.0      0.00     0.00      0.00      0.00   \n",
       "25%      23.00     1.76     1.0      1.00     2.00      0.00      0.00   \n",
       "50%      26.00     1.80     1.5      2.00     3.00      1.00      0.00   \n",
       "75%      29.00     1.85     2.0      3.00     5.00      2.00      1.00   \n",
       "max      47.00     1.90     2.0      9.00    13.00      9.00      7.00   \n",
       "\n",
       "       prec sm%      csm    fondo       m3       m5       m7  pts_ganados  \\\n",
       "count    940.00  1256.00  1256.00  1256.00  1256.00  1256.00      1256.00   \n",
       "mean      64.90     0.36     0.25     1.06     1.74     3.69         6.49   \n",
       "std       33.92     0.69     0.53     1.23     1.56     2.27         3.36   \n",
       "min        0.00     0.00     0.00     0.00     0.00     0.00         0.00   \n",
       "25%       50.00     0.00     0.00     0.00     1.00     2.00         4.00   \n",
       "50%       67.00     0.00     0.00     1.00     1.00     3.00         6.00   \n",
       "75%      100.00     1.00     0.00     2.00     3.00     5.00         9.00   \n",
       "max      100.00     6.00     3.00     9.00     9.00    15.00        17.00   \n",
       "\n",
       "       games_jug   spcsm    bloc     nfr  \n",
       "count    1256.00  552.00  552.00  192.00  \n",
       "mean        4.72    0.45    0.17    1.58  \n",
       "std         0.88    0.71    0.48    1.39  \n",
       "min         3.00    0.00    0.00    0.00  \n",
       "25%         4.00    0.00    0.00    0.00  \n",
       "50%         5.00    0.00    0.00    1.00  \n",
       "75%         5.00    1.00    0.00    3.00  \n",
       "max         6.00    3.00    3.00    6.00  "
      ]
     },
     "execution_count": 5,
     "metadata": {},
     "output_type": "execute_result"
    }
   ],
   "source": [
    "round(df_data.describe(),2)"
   ]
  },
  {
   "cell_type": "code",
   "execution_count": 6,
   "id": "cb3ec635",
   "metadata": {},
   "outputs": [
    {
     "data": {
      "text/plain": [
       "prec sm%     316\n",
       "spcsm        704\n",
       "bloc         704\n",
       "partido      704\n",
       "nfr         1064\n",
       "dtype: int64"
      ]
     },
     "execution_count": 6,
     "metadata": {},
     "output_type": "execute_result"
    }
   ],
   "source": [
    "serie_nan =df_data.isna().sum()\n",
    "\n",
    "\n",
    "l_na =  [col for col in serie_nan if col != 0]\n",
    "\n",
    "serie_nan[serie_nan.isin(l_na)]\n",
    "\n",
    "\n"
   ]
  },
  {
   "cell_type": "markdown",
   "id": "3698ba15",
   "metadata": {},
   "source": [
    "Hay valores NaN en prec sm% - esto seria la efectividad de los remates, pero como hay jugadores que no rematan en un set, para no computar un 0 en su promedio, se lo deja como Nan. Al hacer la media total de cada caracteristica, este valor va a dejar de ser Nan porque todos los jugadores remataron al menos una vez\n",
    "Las ultimas 4 caracteristicas van a ser borradas del df ya que no hay de todos los jugadores, y no son importantes"
   ]
  },
  {
   "cell_type": "markdown",
   "id": "b177a041",
   "metadata": {},
   "source": [
    "\n"
   ]
  },
  {
   "cell_type": "markdown",
   "id": "cea74fcf",
   "metadata": {},
   "source": [
    "## Creacion de nuevo dataframe (df)\n",
    "Se va a crear un df dividiendo las caracteristicas por la cantidad de games jugados.\n",
    "Se eligieron las 3 columnas mas relevantes al analizar partidos, como son los puntos por game (pxg), errores no forzados por game (nfxg) y remates por game (rem). Ademas, se creó una variable sintetica, que es el resultado de restarle a los puntos que hace por game el jugador sus errores no forzados, se llamará pts_netos"
   ]
  },
  {
   "cell_type": "code",
   "execution_count": 7,
   "id": "09d7ff48",
   "metadata": {},
   "outputs": [],
   "source": [
    "df_clean = pd.DataFrame()\n",
    "df_clean = df_clean.assign(name = df_data[\"nombre\"])\n",
    "df_clean = df_clean.assign(pxg = df_data[\"pts_ganados\"]/df_data['games_jug'])\n",
    "df_clean= df_clean.assign(nfxg = df_data[\"NF_total\"]/df_data['games_jug'])\n",
    "df_clean = df_clean.assign(rem = (df_data[\"sm_total\"] + df_data[\"nsmtotal\"])/df_data['games_jug'])\n",
    "\n",
    "#creacion de columna puntos netos\n",
    "df_clean[\"pts_netos\"] = df_clean[\"pxg\"] - df_clean[\"nfxg\"]\n",
    "\n",
    "df_clean = df_clean.groupby(\"name\")[[\"pxg\",\"nfxg\",\"pts_netos\",\"rem\"]].mean().sort_values(by=\"pxg\", ascending=False)\n",
    "\n",
    "df_clean1 = df_clean.reset_index(drop=True)\n",
    "\n",
    "\n",
    "\n",
    "\n",
    "\n"
   ]
  },
  {
   "cell_type": "markdown",
   "id": "5c2b33f9",
   "metadata": {},
   "source": [
    "## Outliers\n"
   ]
  },
  {
   "cell_type": "code",
   "execution_count": 8,
   "id": "3611cd34",
   "metadata": {},
   "outputs": [
    {
     "data": {
      "text/plain": [
       "<AxesSubplot:>"
      ]
     },
     "execution_count": 8,
     "metadata": {},
     "output_type": "execute_result"
    },
    {
     "data": {
      "image/png": "[encoded data removed]",
      "text/plain": [
       "<Figure size 640x480 with 1 Axes>"
      ]
     },
     "metadata": {},
     "output_type": "display_data"
    }
   ],
   "source": [
    "df_clean1.boxplot()\n"
   ]
  },
  {
   "cell_type": "code",
   "execution_count": 9,
   "id": "0efa50eb",
   "metadata": {},
   "outputs": [
    {
     "name": "stdout",
     "output_type": "stream",
     "text": [
      "      pxg    nfxg  pts_netos    rem\n",
      "51  0.825  0.8375    -0.0125  0.425\n",
      "           pxg    nfxg  pts_netos    rem\n",
      "name                                    \n",
      "Alfonso  0.825  0.8375    -0.0125  0.425\n"
     ]
    }
   ],
   "source": [
    "#identificar el outlier\n",
    "print(df_clean1[df_clean1[\"pxg\"] ==df_clean1[\"pxg\"].min()])\n",
    "print(df_clean[df_clean[\"pxg\"] ==df_clean[\"pxg\"].min()])"
   ]
  },
  {
   "cell_type": "code",
   "execution_count": 10,
   "id": "15276e9d",
   "metadata": {},
   "outputs": [],
   "source": [
    "#negativos\n",
    "neg= df_clean[\"pts_netos\"] < 0\n",
    "neg1 =df_clean1[\"pts_netos\"] < 0\n",
    "\n",
    "\n",
    "#eliminamos al outlier ya que es el unico jugador que tiene negativo en puntos_netos, lo cual depende de la cantidad de partidos\n",
    "df_clean.drop(\"Alfonso\",inplace =True)\n",
    "df_clean1.drop(49, inplace =True)\n",
    "\n",
    "df_clean_val = df_clean.values\n",
    "\n",
    "#nombre de los jugadores \n",
    "df_clean_index = df_clean.index\n",
    "\n"
   ]
  },
  {
   "cell_type": "markdown",
   "id": "e9accf2d",
   "metadata": {},
   "source": [
    "### "
   ]
  },
  {
   "cell_type": "code",
   "execution_count": 11,
   "id": "2553b070",
   "metadata": {},
   "outputs": [
    {
     "name": "stderr",
     "output_type": "stream",
     "text": [
      "C:\\Users\\UsuarioW10\\anaconda3\\lib\\site-packages\\sklearn\\cluster\\_kmeans.py:1440: UserWarning: KMeans is known to have a memory leak on Windows with MKL, when there are less chunks than available threads. You can avoid it by setting the environment variable OMP_NUM_THREADS=1.\n",
      "  warnings.warn(\n",
      "C:\\Users\\UsuarioW10\\anaconda3\\lib\\site-packages\\sklearn\\cluster\\_kmeans.py:1440: UserWarning: KMeans is known to have a memory leak on Windows with MKL, when there are less chunks than available threads. You can avoid it by setting the environment variable OMP_NUM_THREADS=1.\n",
      "  warnings.warn(\n",
      "C:\\Users\\UsuarioW10\\anaconda3\\lib\\site-packages\\sklearn\\cluster\\_kmeans.py:1440: UserWarning: KMeans is known to have a memory leak on Windows with MKL, when there are less chunks than available threads. You can avoid it by setting the environment variable OMP_NUM_THREADS=1.\n",
      "  warnings.warn(\n",
      "C:\\Users\\UsuarioW10\\anaconda3\\lib\\site-packages\\sklearn\\cluster\\_kmeans.py:1440: UserWarning: KMeans is known to have a memory leak on Windows with MKL, when there are less chunks than available threads. You can avoid it by setting the environment variable OMP_NUM_THREADS=1.\n",
      "  warnings.warn(\n",
      "C:\\Users\\UsuarioW10\\anaconda3\\lib\\site-packages\\sklearn\\cluster\\_kmeans.py:1440: UserWarning: KMeans is known to have a memory leak on Windows with MKL, when there are less chunks than available threads. You can avoid it by setting the environment variable OMP_NUM_THREADS=1.\n",
      "  warnings.warn(\n",
      "C:\\Users\\UsuarioW10\\anaconda3\\lib\\site-packages\\sklearn\\cluster\\_kmeans.py:1440: UserWarning: KMeans is known to have a memory leak on Windows with MKL, when there are less chunks than available threads. You can avoid it by setting the environment variable OMP_NUM_THREADS=1.\n",
      "  warnings.warn(\n",
      "C:\\Users\\UsuarioW10\\anaconda3\\lib\\site-packages\\sklearn\\cluster\\_kmeans.py:1440: UserWarning: KMeans is known to have a memory leak on Windows with MKL, when there are less chunks than available threads. You can avoid it by setting the environment variable OMP_NUM_THREADS=1.\n",
      "  warnings.warn(\n",
      "C:\\Users\\UsuarioW10\\anaconda3\\lib\\site-packages\\sklearn\\cluster\\_kmeans.py:1440: UserWarning: KMeans is known to have a memory leak on Windows with MKL, when there are less chunks than available threads. You can avoid it by setting the environment variable OMP_NUM_THREADS=1.\n",
      "  warnings.warn(\n",
      "C:\\Users\\UsuarioW10\\anaconda3\\lib\\site-packages\\sklearn\\cluster\\_kmeans.py:1440: UserWarning: KMeans is known to have a memory leak on Windows with MKL, when there are less chunks than available threads. You can avoid it by setting the environment variable OMP_NUM_THREADS=1.\n",
      "  warnings.warn(\n",
      "C:\\Users\\UsuarioW10\\anaconda3\\lib\\site-packages\\sklearn\\cluster\\_kmeans.py:1440: UserWarning: KMeans is known to have a memory leak on Windows with MKL, when there are less chunks than available threads. You can avoid it by setting the environment variable OMP_NUM_THREADS=1.\n",
      "  warnings.warn(\n"
     ]
    },
    {
     "data": {
      "image/png": "[encoded data removed]",
      "text/plain": [
       "<Figure size 640x480 with 1 Axes>"
      ]
     },
     "metadata": {},
     "output_type": "display_data"
    }
   ],
   "source": [
    "wcss = []\n",
    "for i in range(1, 11):\n",
    "    codo = KMeans(n_clusters=i, init='k-means++', max_iter=300, n_init=10, random_state=0)\n",
    "    codo.fit(df_clean_val)\n",
    "    wcss.append(codo.inertia_)\n",
    "plt.plot(range(1, 11), wcss, marker=\"o\", ms=3)\n",
    "\n",
    "plt.title('Metodo del codo')\n",
    "plt.xlabel('Numero de clusters')\n",
    "plt.ylabel('Inercia')\n",
    "plt.show()"
   ]
  },
  {
   "cell_type": "markdown",
   "id": "dc3233a6",
   "metadata": {},
   "source": [
    "Si bien las posibilidades para agrupar podrian ser desde 2 cluster hasta 4, el análisis previo del deporte divide a los jugadores en 3 grupos: Los que se destacan por la cantidad de puntos que hacen(ofensivos), los que se destacan defensivamente (defensivos), y en el medio jugadores hibridos, asi que elegimos separar a los jugadores en 3 clusters"
   ]
  },
  {
   "cell_type": "markdown",
   "id": "2a8e876e",
   "metadata": {},
   "source": [
    "Instanciar modelo "
   ]
  },
  {
   "cell_type": "code",
   "execution_count": 12,
   "id": "db1346b8",
   "metadata": {
    "scrolled": true
   },
   "outputs": [
    {
     "name": "stderr",
     "output_type": "stream",
     "text": [
      "C:\\Users\\UsuarioW10\\anaconda3\\lib\\site-packages\\sklearn\\cluster\\_kmeans.py:1440: UserWarning: KMeans is known to have a memory leak on Windows with MKL, when there are less chunks than available threads. You can avoid it by setting the environment variable OMP_NUM_THREADS=1.\n",
      "  warnings.warn(\n"
     ]
    }
   ],
   "source": [
    "model = KMeans(n_clusters=3, init='k-means++', max_iter=300, n_init=10, random_state=5)\n",
    "pred_y = model.fit_predict(df_clean)\n",
    "\n",
    "\n"
   ]
  },
  {
   "cell_type": "code",
   "execution_count": 13,
   "id": "34e56abe",
   "metadata": {},
   "outputs": [
    {
     "data": {
      "image/png": "[encoded data removed]",
      "text/plain": [
       "<Figure size 640x480 with 1 Axes>"
      ]
     },
     "metadata": {},
     "output_type": "display_data"
    }
   ],
   "source": [
    "plt.scatter(df_clean_val[:,0], df_clean_val[:,1])\n",
    "plt.scatter(model.cluster_centers_[:, 0], model.cluster_centers_[:, 1], s=300, c='red')\n",
    "plt.show()"
   ]
  },
  {
   "cell_type": "markdown",
   "id": "ab073b75",
   "metadata": {},
   "source": [
    "# rescribir"
   ]
  },
  {
   "cell_type": "markdown",
   "id": "1c5990d4",
   "metadata": {},
   "source": [
    "## Preprocesado y modelado"
   ]
  },
  {
   "cell_type": "code",
   "execution_count": 14,
   "id": "f55a8ee1",
   "metadata": {},
   "outputs": [
    {
     "name": "stdout",
     "output_type": "stream",
     "text": [
      "Porcentaje de varianza explicada por cada componente\n",
      "[6.50821950e-01 2.55155624e-01 9.40224263e-02 2.36637366e-32]\n"
     ]
    },
    {
     "data": {
      "image/png": "[encoded data removed]",
      "text/plain": [
       "<Figure size 1000x500 with 1 Axes>"
      ]
     },
     "metadata": {},
     "output_type": "display_data"
    }
   ],
   "source": [
    "df_cluster =df_clean1\n",
    "# Entrenamiento modelo PCA con escalado de los datos\n",
    "pca_pipe = make_pipeline(StandardScaler(), PCA())\n",
    "pca_pipe.fit(df_cluster)\n",
    "\n",
    "# Se extrae el modelo entrenado del pipeline\n",
    "modelo_pca = pca_pipe.named_steps['pca']\n",
    "\n",
    "# Porcentaje de varianza explicada por cada componente\n",
    "print('Porcentaje de varianza explicada por cada componente')\n",
    "print(modelo_pca.explained_variance_ratio_)\n",
    "\n",
    "import seaborn as sns;sns.set_style(\"whitegrid\")\n",
    "\n",
    "fig, ax = plt.subplots(nrows=1, ncols=1, figsize=(10, 5))\n",
    "ax.bar(x= np.arange(modelo_pca.n_components_) + 1,height = modelo_pca.explained_variance_ratio_)\n",
    "for x, y in zip(np.arange(len(df_cluster.columns)) + 1, modelo_pca.explained_variance_ratio_):\n",
    "    label = round(y, 2)\n",
    "    ax.annotate(label,(x,y),textcoords=\"offset points\",xytext=(0,10),ha='center')\n",
    "ax.set_xticks(np.arange(modelo_pca.n_components_) + 1);ax.set_ylim(0, 1.1)\n",
    "ax.set_title('Porcentaje de varianza explicada por cada componente')\n",
    "ax.set_xlabel('Componente principal')\n",
    "ax.set_ylabel('Por. varianza explicada')\n",
    "plt.show()\n",
    "\n"
   ]
  },
  {
   "cell_type": "markdown",
   "id": "e4410c91",
   "metadata": {},
   "source": [
    "Se utilizarán los 2 primeros componentes, que explican un 88% de la variacion del dataframe"
   ]
  },
  {
   "cell_type": "code",
   "execution_count": 15,
   "id": "eb3f0f8b",
   "metadata": {},
   "outputs": [
    {
     "ename": "ValueError",
     "evalue": "Shape of passed values is (4, 4), indices imply (5, 4)",
     "output_type": "error",
     "traceback": [
      "\u001b[1;31m---------------------------------------------------------------------------\u001b[0m",
      "\u001b[1;31mValueError\u001b[0m                                Traceback (most recent call last)",
      "\u001b[1;32m~\\AppData\\Local\\Temp\\ipykernel_22888\\2180068715.py\u001b[0m in \u001b[0;36m<module>\u001b[1;34m\u001b[0m\n\u001b[0;32m      1\u001b[0m \u001b[1;31m#Utilizar los 2 primeros componentes del PCA\u001b[0m\u001b[1;33m\u001b[0m\u001b[1;33m\u001b[0m\u001b[0m\n\u001b[1;32m----> 2\u001b[1;33m df_pca = pd.DataFrame(data = modelo_pca.components_, columns=df_cluster.columns, \n\u001b[0m\u001b[0;32m      3\u001b[0m              index = [\"PC1\",\"PC2\",\"PC3\",\"PC4\",\"PC5\"])\n\u001b[0;32m      4\u001b[0m \u001b[1;33m\u001b[0m\u001b[0m\n\u001b[0;32m      5\u001b[0m \u001b[0mproyecciones\u001b[0m \u001b[1;33m=\u001b[0m \u001b[0mpca_pipe\u001b[0m\u001b[1;33m.\u001b[0m\u001b[0mtransform\u001b[0m\u001b[1;33m(\u001b[0m\u001b[0mX\u001b[0m\u001b[1;33m=\u001b[0m\u001b[0mdf_cluster\u001b[0m\u001b[1;33m)\u001b[0m\u001b[1;33m\u001b[0m\u001b[1;33m\u001b[0m\u001b[0m\n",
      "\u001b[1;32m~\\anaconda3\\lib\\site-packages\\pandas\\core\\frame.py\u001b[0m in \u001b[0;36m__init__\u001b[1;34m(self, data, index, columns, dtype, copy)\u001b[0m\n\u001b[0;32m    692\u001b[0m                 )\n\u001b[0;32m    693\u001b[0m             \u001b[1;32melse\u001b[0m\u001b[1;33m:\u001b[0m\u001b[1;33m\u001b[0m\u001b[1;33m\u001b[0m\u001b[0m\n\u001b[1;32m--> 694\u001b[1;33m                 mgr = ndarray_to_mgr(\n\u001b[0m\u001b[0;32m    695\u001b[0m                     \u001b[0mdata\u001b[0m\u001b[1;33m,\u001b[0m\u001b[1;33m\u001b[0m\u001b[1;33m\u001b[0m\u001b[0m\n\u001b[0;32m    696\u001b[0m                     \u001b[0mindex\u001b[0m\u001b[1;33m,\u001b[0m\u001b[1;33m\u001b[0m\u001b[1;33m\u001b[0m\u001b[0m\n",
      "\u001b[1;32m~\\anaconda3\\lib\\site-packages\\pandas\\core\\internals\\construction.py\u001b[0m in \u001b[0;36mndarray_to_mgr\u001b[1;34m(values, index, columns, dtype, copy, typ)\u001b[0m\n\u001b[0;32m    349\u001b[0m     )\n\u001b[0;32m    350\u001b[0m \u001b[1;33m\u001b[0m\u001b[0m\n\u001b[1;32m--> 351\u001b[1;33m     \u001b[0m_check_values_indices_shape_match\u001b[0m\u001b[1;33m(\u001b[0m\u001b[0mvalues\u001b[0m\u001b[1;33m,\u001b[0m \u001b[0mindex\u001b[0m\u001b[1;33m,\u001b[0m \u001b[0mcolumns\u001b[0m\u001b[1;33m)\u001b[0m\u001b[1;33m\u001b[0m\u001b[1;33m\u001b[0m\u001b[0m\n\u001b[0m\u001b[0;32m    352\u001b[0m \u001b[1;33m\u001b[0m\u001b[0m\n\u001b[0;32m    353\u001b[0m     \u001b[1;32mif\u001b[0m \u001b[0mtyp\u001b[0m \u001b[1;33m==\u001b[0m \u001b[1;34m\"array\"\u001b[0m\u001b[1;33m:\u001b[0m\u001b[1;33m\u001b[0m\u001b[1;33m\u001b[0m\u001b[0m\n",
      "\u001b[1;32m~\\anaconda3\\lib\\site-packages\\pandas\\core\\internals\\construction.py\u001b[0m in \u001b[0;36m_check_values_indices_shape_match\u001b[1;34m(values, index, columns)\u001b[0m\n\u001b[0;32m    420\u001b[0m         \u001b[0mpassed\u001b[0m \u001b[1;33m=\u001b[0m \u001b[0mvalues\u001b[0m\u001b[1;33m.\u001b[0m\u001b[0mshape\u001b[0m\u001b[1;33m\u001b[0m\u001b[1;33m\u001b[0m\u001b[0m\n\u001b[0;32m    421\u001b[0m         \u001b[0mimplied\u001b[0m \u001b[1;33m=\u001b[0m \u001b[1;33m(\u001b[0m\u001b[0mlen\u001b[0m\u001b[1;33m(\u001b[0m\u001b[0mindex\u001b[0m\u001b[1;33m)\u001b[0m\u001b[1;33m,\u001b[0m \u001b[0mlen\u001b[0m\u001b[1;33m(\u001b[0m\u001b[0mcolumns\u001b[0m\u001b[1;33m)\u001b[0m\u001b[1;33m)\u001b[0m\u001b[1;33m\u001b[0m\u001b[1;33m\u001b[0m\u001b[0m\n\u001b[1;32m--> 422\u001b[1;33m         \u001b[1;32mraise\u001b[0m \u001b[0mValueError\u001b[0m\u001b[1;33m(\u001b[0m\u001b[1;34mf\"Shape of passed values is {passed}, indices imply {implied}\"\u001b[0m\u001b[1;33m)\u001b[0m\u001b[1;33m\u001b[0m\u001b[1;33m\u001b[0m\u001b[0m\n\u001b[0m\u001b[0;32m    423\u001b[0m \u001b[1;33m\u001b[0m\u001b[0m\n\u001b[0;32m    424\u001b[0m \u001b[1;33m\u001b[0m\u001b[0m\n",
      "\u001b[1;31mValueError\u001b[0m: Shape of passed values is (4, 4), indices imply (5, 4)"
     ]
    }
   ],
   "source": [
    "#Utilizar los 2 primeros componentes del PCA\n",
    "df_pca = pd.DataFrame(data = modelo_pca.components_, columns=df_cluster.columns, \n",
    "             index = [\"PC1\",\"PC2\",\"PC3\",\"PC4\",\"PC5\"])\n",
    "\n",
    "proyecciones = pca_pipe.transform(X=df_cluster)\n",
    "\n",
    "proyecciones = pd.DataFrame(data = proyecciones,columns =  [\"PC1\",\"PC2\",\"PC3\",\"PC4\",\"PC5\"],\n",
    "                           index = df_cluster.index)\n",
    "\n",
    "proyecciones = proyecciones[[\"PC1\", \"PC2\"]]\n",
    "\n",
    "proyecciones.head(2)"
   ]
  },
  {
   "cell_type": "code",
   "execution_count": null,
   "id": "eba24655",
   "metadata": {},
   "outputs": [],
   "source": [
    "#Graficar clusters\n",
    "\n",
    "#model con cluster\n",
    "modelcc = model.fit(proyecciones)\n",
    "\n",
    "#obtener labels del modelo fitteado\n",
    "labels = modelcc.labels_\n",
    "\n",
    "#agregar los labels al df\n",
    "df_clean1['cluster_label'] = labels\n",
    "\n",
    "#representamos puntos y centroides\n",
    "# Obtener los Centroides\n",
    "centroids = modelcc.cluster_centers_\n",
    "\n",
    "centroids_x = centroids[:,0]\n",
    "centroids_y = centroids[:,1]\n",
    "\n",
    "\n",
    "#cambiar el index por nombres de los jugadores\n",
    "df_clean1.set_index(df_clean_index, inplace=True)\n",
    "#print(cc1.sort_values(\"cluster_label\"))\n",
    "maskcc0 = (df_clean1['cluster_label'] == 0)\n",
    "maskcc1 = (df_clean1['cluster_label'] == 1)\n",
    "maskcc2 = (df_clean1['cluster_label'] == 2)\n",
    "\n",
    "\n",
    "#colores\n",
    "fondo = \"#313332\"\n",
    "verde_lindo = \"#46f892\"\n",
    "verde_claro = \"#b5fdcd\"\n",
    "scattermedia =\"#42424d\" #alpha=0.9\n",
    "text_color = \"w\"\n",
    "color_set1 = '#3ff294' # gran verde\n",
    "color_set2 = '#f4aa51' # amarillo arena naranja\n",
    "celeste = \"#31acce\" \n",
    "celeste_claro = \"#c1e6f0\"\n",
    "\n",
    "\n",
    "# Obtén las coordenadas de los puntos\n",
    "x = df_clean1['pxg']\n",
    "y = df_clean1['rem']\n",
    "names = df_clean_index  # Nombres de los puntos"
   ]
  },
  {
   "cell_type": "markdown",
   "id": "2d453f9e",
   "metadata": {},
   "source": [
    "Los datos de cada jugador en particular por game"
   ]
  },
  {
   "cell_type": "code",
   "execution_count": null,
   "id": "3e98a704",
   "metadata": {},
   "outputs": [],
   "source": [
    "df_clean1.head()"
   ]
  },
  {
   "cell_type": "code",
   "execution_count": null,
   "id": "793b08db",
   "metadata": {},
   "outputs": [],
   "source": []
  },
  {
   "cell_type": "code",
   "execution_count": null,
   "id": "ad3ba438",
   "metadata": {},
   "outputs": [],
   "source": [
    "def g_bar(df):\n",
    "    # Crea el gráfico scatter con nombres\n",
    "    df= df.sort_values(\"cluster_label\", ascending=False)\n",
    "    \n",
    "    fig, ax = plt.subplots(figsize=(12,5))\n",
    "    fig.set_facecolor(\"#d1d1e0\")\n",
    "    name1 = \"pts x game\"\n",
    "    name2 = \"NF\"\n",
    "    name3 = \"Rem\"\n",
    "    \n",
    "    width = 0.2\n",
    "    index = np.arange(3)\n",
    "    \n",
    "    \n",
    "\n",
    "    verde_lindo= \"#33cc33\"\n",
    "    ax.patch.set_facecolor(\"#d1d1e0\")\n",
    "    #sns.barplot(x= df.index, y=df[\"rem\"], hue=df[\"cluster_label\"])\n",
    "    # Define una paleta de colores personalizada\n",
    "    colores = [celeste, verde_lindo, \"red\"]\n",
    "\n",
    "    # Asigna colores a las barras en función de los valores de \"cluster_label\"\n",
    "    colores_barras = [colores[label] for label in df[\"cluster_label\"]]\n",
    "    ax.bar(df.index, df[\"pxg\"], color=colores_barras)\n",
    "    ax.scatter(df.index, df[\"rem\"], color =\"black\", s=15)\n",
    "    ax.scatter(df.index, df[\"pts_netos\"], color =\"yellow\",s=15)\n",
    "    plt.xticks(rotation=90)\n",
    "    ax.set_ylabel(\"Puntos por game y remates\", color = \"black\")\n",
    "    \n",
    "    #compartir eje x \n",
    "    ax2 = ax.twinx()\n",
    "    ax2.scatter(df.index, df[\"nfxg\"], color =\"white\",s=15) \n",
    "   \n",
    "    ax2.set_ylabel(\"NF por game\", color = \"white\", fontsize=12)\n",
    "\n",
    "    #cambiar colores\n",
    "    ax.tick_params(axis=\"y\", colors=\"black\")\n",
    "    ax2.tick_params(axis=\"y\", colors=\"black\")\n",
    "    ax.tick_params(axis=\"x\", colors=\"black\")\n",
    "   \n",
    "    \n",
    "    plt.title(\"Clusterización de los jugadores\", color=\"black\")\n",
    "    ax.xaxis.grid(False)  # Desactivar las líneas de la cuadrícula en el eje x\n",
    "    ax.yaxis.grid(False)\n",
    "    #ax.grid(False)\n",
    "    ax2.grid(False)\n",
    "    ax.text(0.1, 1.85, \"Remates - \", color=\"black\", weight='bold', ha='center')\n",
    "    ax.text(2.8, 1.85, \"NF -\", color=\"white\", weight='bold', ha='center')\n",
    "    ax.text(6, 1.85, \"Pts netos\", color=\"yellow\", weight='bold', ha='center')\n",
    "    # Mostrar el gráfico\n",
    "    plt.tight_layout()\n",
    "    plt.show()\n",
    "g_bar(df_clean1)"
   ]
  },
  {
   "cell_type": "raw",
   "id": "be7a7a1a",
   "metadata": {},
   "source": [
    "En el grafico de arriba se observan los 3 clusters que agrupan a los jugadores segun sus estadisticas por game que juegan, siendo las barras los puntos que hacen, en puntos grises los errores no forzados y en puntos negros los remates que realizan.\n",
    "\n",
    "Descripcion de clusters:\n",
    "\n",
    "Cluster 1, rojo: jugadores que realizan menos remates que la media es el rasgo principal. Tambien suelen cometer mas errorez no forzados que la media, y la cantidad de puntos es variada, pero suelen hacer entre la media y menos\n",
    "\n",
    "Cluster 2, verde: son jugadores hibridos, presentan valores intermedios entre el cluster 1 y 2\n",
    "\n",
    "Cluster 3, azul: jugadores que realizan mas puntos que la media y mas remates. Errores no forzados es variado"
   ]
  },
  {
   "cell_type": "markdown",
   "id": "5a4d0f28",
   "metadata": {},
   "source": []
  },
  {
   "cell_type": "markdown",
   "id": "c2d9462a",
   "metadata": {},
   "source": [
    "Evaluacion de silhouette"
   ]
  },
  {
   "cell_type": "code",
   "execution_count": null,
   "id": "ad2ae886",
   "metadata": {},
   "outputs": [],
   "source": [
    "df_clean1.head(2)"
   ]
  },
  {
   "cell_type": "code",
   "execution_count": null,
   "id": "fc227bd6",
   "metadata": {},
   "outputs": [],
   "source": [
    "from sklearn.metrics import silhouette_score, silhouette_samples\n",
    "from sklearn.preprocessing import StandardScaler\n",
    "\n",
    "valor_x = df_clean1.drop(\"cluster_label\", axis=1).values\n",
    "\n",
    "valor_y = df_clean1.cluster_label.values\n",
    "\n",
    "sc = StandardScaler()\n",
    "valor_x_norm =sc.fit_transform(valor_x)\n",
    "slc = {}\n",
    "\n",
    "for k in range(2,6):\n",
    "    kmeans = KMeans(n_clusters=k, max_iter=100, random_state=10).fit(valor_x_norm)\n",
    "    clusters =kmeans.labels_\n",
    "    slc[k] = silhouette_score(valor_x_norm, clusters)\n",
    "    \n",
    "slc\n"
   ]
  },
  {
   "cell_type": "code",
   "execution_count": null,
   "id": "7020f0c5",
   "metadata": {},
   "outputs": [],
   "source": [
    "plt.figure(figsize=(6,3))\n",
    "plt.plot(list(slc.keys()), list(slc.values()))\n",
    "plt.xlabel(\"Numero de clusters\")\n",
    "plt.ylabel(\"Score de Silhouette\")\n",
    "plt.show()"
   ]
  },
  {
   "cell_type": "markdown",
   "id": "d0f366c6",
   "metadata": {},
   "source": []
  },
  {
   "cell_type": "markdown",
   "id": "569f7d7b",
   "metadata": {},
   "source": [
    "# Análisis del ranking según clusters\n",
    "\n",
    "### Cluster 1: \n",
    "Jugadores que realizan menos remates que la media es el rasgo principal. Tambien, suelen cometer mas errores no forzados que la media, y la cantidad de puntos es variada, pero suelen hacer entre la media y menos.\n",
    "\n",
    "### Cluster 2: \n",
    "Son jugadores hibridos, presentan valores intermedios entre el cluster 1 y 3.\n",
    "\n",
    "### Cluster 3: \n",
    "Son jugadores que realizan mas puntos que la media y mas remates. Errores no forzados es variado.\n",
    "\n",
    "### Parejas segun ranking:\n",
    "\n",
    "#### Numero 1: \n",
    "Son 2 jugadores del cluster 3.Ambos estan por encima del percentilo 85 en puntos por game, única pareja que tiene a 2 jugadores con tantos puntos, y ademas son la pareja que menos errores no forzados comete. Hacen muchos puntos y otorgan pocos al rival. Como detalle no menor, tambien son los que mas rematan, teniendo una de las efectividades mas altas además. Se encuentran invictos.\n",
    "\n",
    "#### Numero 2: \n",
    "Tiene un jugador del cluster 3 y el otro es un hibrido, cluster 2, que tiene partidos en los cuales se vuelve mas ofensivo y tiene menos errores no forzados que su compañero\n",
    "\n",
    "#### Numero 3: \n",
    "Tiene un jugador del cluster 3 y el otro es un hibrido, cluster 2, que tiene partidos en los cuales se vuelve mas defensivo y es de los que menos errores no forzados tiene en el torneo\n",
    "\n",
    "#### Numero 4: \n",
    "Tiene 2 jugadores hibridos, cluster 2. Uno de ellos el que mas puntos hace por game en el cluster 2 y con pocos errores no forzados. En cambio, su pareja, tiene rendimientos mas variado, sobretodo en lo que respecta a errores no forzados.\n",
    "\n",
    "#### Numero 5: \n",
    "Tiene un jugador del cluster 3, siendo el que mas puntos hace en el torneo, y a un jugador del cluster 1, quien hace pocos puntos (los termina haciendo su compañero) y comete muy pocos errores no forzados\n",
    "\n",
    "##### Esto denota que no hay una formula única en el armado de parejas con respecto a los roles de cada jugador"
   ]
  },
  {
   "cell_type": "markdown",
   "id": "11857b43",
   "metadata": {},
   "source": [
    "## En cuanto a las combinaciones con pocas probabilidades de exito:\n",
    "Es una tentación juntar 2 jugadores que hagan muchos puntos por game, sin embargo, estos jugadores suelen estar por encima del percentilo 50 en errores no forzados, y juntar a jugadores que \"compitan\" por hacer puntos y se \"hundan\" por los errores no forzados no ha tenido buenos resultados; excepto los actuales numero 1, pero ellos comenten muy pocos errores no forzados, ambos"
   ]
  },
  {
   "cell_type": "markdown",
   "id": "757bb076",
   "metadata": {},
   "source": [
    "Numero 1: son 2 jugadores del cluster 3.Ambos estan por encima del percentilo 85 en puntos por game, única pareja que tiene a 2 jugadores con tantos puntos, y ademas son la pareja que menos errores no forzados comete. Hacen muchos puntos y otorgan pocos al rival. Como detalle no menor, tambien son los que mas rematan, teniendo una de las efectividades mas altas además. Se encuentran invictos."
   ]
  },
  {
   "cell_type": "code",
   "execution_count": null,
   "id": "81084dc3",
   "metadata": {},
   "outputs": [],
   "source": [
    "def jug_valor(df,name,name2, name3,r):\n",
    "    \n",
    "    #jug1\n",
    "    pxg= round(df.loc[name, \"pxg\"],2)\n",
    "    nfxg= round(df.loc[name, \"nfxg\"],2)\n",
    "    rem= round(df.loc[name, \"rem\"],2)\n",
    "    rank = r\n",
    "    \n",
    "    #jug2\n",
    "    pxg2= round(df.loc[name2, \"pxg\"],2)\n",
    "    nfxg2= round(df.loc[name2, \"nfxg\"],2)\n",
    "    rem2= round(df.loc[name2, \"rem\"],2)\n",
    "        \n",
    "    #equipo\n",
    "    pxg3 = pxg + pxg2\n",
    "    nfxg3 =nfxg + nfxg2\n",
    "    rem3 = rem + rem2\n",
    "    \n",
    "    #crear df\n",
    "    df_jug = pd.DataFrame({\"Puntos por game\":[pxg, pxg2],\n",
    "                           \"No forzados\":[nfxg, nfxg2],\n",
    "                           \"Puntos netos\": [pxg - nfxg, pxg2 -nfxg2],\n",
    "                           \"Remates\": [rem,rem2],\n",
    "                     \"Ranking\": [r,r]},\n",
    "                          index= [name, name2])\n",
    "    \n",
    "    df_eq =pd.DataFrame({\"Puntos por game\":[pxg3],\n",
    "                           \"No forzados\":[nfxg3],\n",
    "                         \"Puntos netos\": [pxg3 - nfxg3],\n",
    "                           \"Remates\": [rem3],\n",
    "                     \"Ranking\": [r]},\n",
    "                          index= [name3])\n",
    "            \n",
    "    \n",
    "    return df_jug, df_eq\n",
    "medias_desc = df_clean1.describe().T\n",
    "\n",
    "m_pxg = medias_desc.loc[\"pxg\", \"mean\"]/ df_clean1[\"pxg\"].sum()\n",
    "m_nfxg = medias_desc.loc[\"nfxg\", \"mean\"]/df_clean1[\"nfxg\"].sum()\n",
    "m_pts_netos = medias_desc.loc[\"pts_netos\", \"mean\"]/df_clean1[\"pts_netos\"].sum()\n",
    "m_rem = medias_desc.loc[\"rem\", \"mean\"]/df_clean1[\"rem\"].sum()\n",
    "\n",
    "df_clean1.describe().T\n"
   ]
  },
  {
   "cell_type": "code",
   "execution_count": null,
   "id": "4b9e9639",
   "metadata": {},
   "outputs": [],
   "source": [
    "df_n1,df_eq1 = jug_valor(df_clean1,\"Tapia\",\"Coello\", \"Tapia-Coello\",\"1\")\n",
    "df_n2,df_eq2 = jug_valor(df_clean1,\"Galan\",\"Lebron\", \"Galan-Lebron\",\"2\")\n",
    "df_n3,df_eq3 = jug_valor(df_clean1,\"Stupa\",\"Di Nenno\", \"Stupa-Di Nenno\",\"3\")\n",
    "df_n4, df_eq4 = jug_valor(df_clean1,\"Momo\",\"Sanyo\", \"Momo-Sanyo\",\"4\")\n",
    "df_n5,df_eq5 = jug_valor(df_clean1,\"Paquito\",\"Chingotto\", \"Paquito-Chingotto\",\"5\")\n",
    "\n",
    "#df_n1[\"Ranking\"] \n",
    "#df_n1 =df_n1.T\n",
    "df_rank = pd.concat([df_n1,df_n2,df_n3,df_n4,df_n5])\n",
    "df_eq_rank = pd.concat([df_eq1,df_eq2,df_eq3,df_eq4,df_eq5])\n",
    "\n",
    "print(df_eq_rank)\n",
    "df_rank\n",
    "                          \n",
    "\n",
    "                           "
   ]
  },
  {
   "cell_type": "code",
   "execution_count": null,
   "id": "298d8229",
   "metadata": {},
   "outputs": [],
   "source": [
    "df_plot = df_eq_rank.drop(\"Ranking\", axis=1).reset_index()\n",
    "\n",
    "\n",
    "#plt.plot(df_eq_rank[:4],df_eq_rank.values[:4)\n",
    "tap_coe = df_plot[df_plot[\"index\"] == \"Tapia-Coello\"]\n",
    "\n",
    "\n",
    "l_name = df_plot[\"index\"].to_list()\n",
    "\n",
    "#xx = df_plot[\"Puntos por game\", \"No forzados\", \"Puntos netos\", \"Remates\"]\n",
    "\n",
    "l_cols =[\"Puntos por game\", \"Puntos netos\", \"Remates\", \"No forzados\"]\n",
    "\n",
    "#normalizar columnas\n",
    "for i in l_cols:\n",
    "    df_plot[i] = df_plot[i].apply(lambda x: x/df_plot[i].sum())\n",
    "\n",
    "    \n",
    "#medias de todos los jugadores nornalizadas\n",
    "medias_desc = df_clean1.describe().T\n",
    "\n",
    "m_pxg = medias_desc.loc[\"pxg\", \"mean\"]/ df_clean1[\"pxg\"].sum()\n",
    "m_nfxg = medias_desc.loc[\"nfxg\", \"mean\"]/df_clean1[\"nfxg\"].sum()\n",
    "m_pts_netos = medias_desc.loc[\"pts_netos\", \"mean\"]/df_clean1[\"pts_netos\"].sum()\n",
    "m_rem = medias_desc.loc[\"rem\", \"mean\"]/df_clean1[\"rem\"].sum()\n",
    "m_pxg, m_nfxg, m_pts_netos, m_rem    \n",
    "    \n",
    "    \n",
    "# Graficar\n",
    "fig, ax = plt.subplots(figsize=(12,4))\n",
    "\n",
    "for i,name in enumerate(l_name):\n",
    "    yy = df_plot[df_plot[\"index\"]== name]\n",
    "    yyy = yy[l_cols].values[0]\n",
    "    ax.plot(l_cols, yyy, label = name)\n",
    "\n",
    "l_medias =[m_pxg, m_nfxg, m_pts_netos, m_rem]\n",
    "\n",
    "ax.plot(l_cols, l_medias, label=\"Medias\", linestyle=\"--\")\n",
    "#yy = tap_coe[l_cols].values[0] #yy = tap_coe[l_cols].iloc[0]\n",
    "\n",
    "ax.set_title(\"Datos de las top 5 parejas normalizados\")\n",
    "ax.set_ylabel(\"Valores normalizados\")\n",
    "plt.legend()  \n",
    "plt.show()"
   ]
  },
  {
   "cell_type": "markdown",
   "id": "9cb57de1",
   "metadata": {},
   "source": [
    "\n"
   ]
  },
  {
   "cell_type": "markdown",
   "id": "a4baa7f0",
   "metadata": {},
   "source": [
    "Análisis teniendo en cuenta quién gana o pierde o empata (tiebreak) el set"
   ]
  },
  {
   "cell_type": "code",
   "execution_count": null,
   "id": "62a6acab",
   "metadata": {},
   "outputs": [],
   "source": [
    "#dataset con los datos por equipo con resultado - df_gop (gano o perdio)\n",
    "df_gop = pd.read_excel(\"_ml1_eqxset.xlsx\")"
   ]
  },
  {
   "cell_type": "code",
   "execution_count": null,
   "id": "ded1f43f",
   "metadata": {
    "scrolled": true
   },
   "outputs": [],
   "source": [
    "#quitar outlier de sd en bruselas 3er set\n",
    "df_gop.drop(49, axis=0, inplace=True)\n",
    "df_gop"
   ]
  },
  {
   "cell_type": "code",
   "execution_count": null,
   "id": "a7f131b5",
   "metadata": {},
   "outputs": [],
   "source": [
    "#cambiar index \n",
    "df_gop.set_index('nombre',inplace=True)\n",
    "\n",
    "#df con games ganados\n",
    "df_gano = df_gop[df_gop[\"gano_set\"]==\"g\"]\n",
    "all_cols = ['nf', 'w', 'sm', 'ns', 'csm', 'fondo', 'm3', 'm5',\n",
    "       'm7', 'pto_tot', 'tot_snf', 'ed','games jug', \"set\"]\n",
    "\n",
    "#res_col = [\"nf\", \"pto_tot\", \"tot_snf\",\"sm\",\"ns\", \"games jug\"]\n",
    "res_col = [\"nf\", \"pto_tot\", \"tot_snf\", \"games jug\"]\n",
    "\n",
    "\n",
    "df_gano = df_gano[res_col]\n",
    "\n",
    "df_ganoxgame = round(df_gano.div(df_gano[\"games jug\"], axis=0),3)\n",
    "df_ganoxgame[\"result\"] =\"g\"\n",
    "\n",
    "\n",
    "#df con games perdidos\n",
    "df_perdio = df_gop[df_gop[\"gano_set\"]==\"p\"]\n",
    "df_perdio = df_perdio[res_col]\n",
    "\n",
    "df_perdioxgame = round(df_perdio.div(df_perdio[\"games jug\"], axis=0),3)\n",
    "df_perdioxgame[\"result\"] =\"p\"\n",
    "\n",
    "#concatenar los df gano y perdio \n",
    "\n",
    "all = pd.concat([df_ganoxgame, df_perdioxgame])\n",
    "all.drop(\"games jug\", axis=1, inplace=True)\n",
    "all[\"result\"] = np.where(all[\"result\"] == \"g\",1,0)\n",
    "all"
   ]
  },
  {
   "cell_type": "code",
   "execution_count": null,
   "id": "c6990544",
   "metadata": {},
   "outputs": [],
   "source": [
    "#analisis univariado\n",
    "univ = all.describe().T.drop([\"result\"])\n",
    "univ"
   ]
  },
  {
   "cell_type": "code",
   "execution_count": null,
   "id": "092fbbf6",
   "metadata": {},
   "outputs": [],
   "source": [
    "all_hist = all.drop(\"result\", axis=1)\n",
    "l_title = [\"No forzados\", \"Puntos totales\", \"Puntos sin no forzados rivales\"]\n",
    "for i,g in enumerate(all_hist.columns):\n",
    "    sns.set()\n",
    "    plt.hist(all_hist[g])\n",
    "    plt.xlabel(\"Puntos por game\")\n",
    "    plt.title(l_title[i])\n",
    "    plt.show()"
   ]
  },
  {
   "cell_type": "code",
   "execution_count": null,
   "id": "9352cfff",
   "metadata": {},
   "outputs": [],
   "source": [
    "df_corr = all.corr()\n",
    "df_corr.drop([\"nf\",\"pto_tot\",\"tot_snf\"], axis=1)"
   ]
  },
  {
   "cell_type": "markdown",
   "id": "4a147262",
   "metadata": {},
   "source": [
    "nf: errores no forzados, pto_tot: puntos totales, tot_snf: puntos totales sin contar errores no forzados del rival, result: resultado, 1 es gana, 0 perder,\n",
    "\n",
    "Hay una fuerte correlacion con result,(ganar) y los puntos que hace una pareja y los puntos totales con los puntos sin no forzados porque uno contiene al otro. Si bien se podría eliminar una de las columnas de los puntos, sirve tener las 2 columnas para diferenciar a los jugadores que hacen muchos puntos y tambien muchos errores no forzados de los que hacen muchos puntos y pocos errores no forzados, que son el ideal del padel y que mas sets ganan\n",
    "\n",
    "Mientras que los errores no forzados muestran correlacion inversa con ganar, pero no tan fuerte como la cantidad de puntos hechos, ya que los puntos pueden superar a los errores no forzados y ganar el partido, a pesar de tener ambos valores altos"
   ]
  },
  {
   "cell_type": "code",
   "execution_count": null,
   "id": "edc3705a",
   "metadata": {},
   "outputs": [],
   "source": [
    "#errores no forzados \n",
    "plt.figure(figsize=(6, 2))\n",
    "plt.scatter(all[\"nf\"], all[\"result\"], color=\"black\")\n",
    "plt.title(\"No forzados\")\n",
    "plt.yticks([0,1],[\"Perdedor\",\"Ganador\"])\n",
    "plt.xlabel(\"Cantidad por game\")\n",
    "plt.margins(y=0.2)  # Ajusta el margen vertical\n",
    "plt.show()"
   ]
  },
  {
   "cell_type": "markdown",
   "id": "d5e5346f",
   "metadata": {},
   "source": [
    "Se observa que hacer muy pocos errores no forzados (lo cual no es nada sencillo y suele ocurrrir cuando hay mucha diferencia en el ranking o una pareja en particular que son los numero 1 del ranking) es un buen predictor del triunfo del set.\n",
    "\n",
    "Los errores no forzados tienen una correlacion con el resultado de: -0.522001, siendo que quien haga mas de \n",
    "estos tiene mas probabilidades de perder. Como se aprecia en el grafico, hay un rango de 0.47 a 1.35 puntos \n",
    "en los cuales se puede ganar o perder el set"
   ]
  },
  {
   "cell_type": "code",
   "execution_count": null,
   "id": "05ce8f90",
   "metadata": {},
   "outputs": [],
   "source": [
    "#Puntos totales \n",
    "plt.figure(figsize=(6, 2))\n",
    "plt.scatter(all[\"pto_tot\"], all[\"result\"], color=\"black\")\n",
    "plt.title(\"Puntos totales\")\n",
    "plt.yticks([0,1],[\"Perdedor\",\"Ganador\"])\n",
    "plt.xlabel(\"Cantidad por game\")\n",
    "plt.margins(y=0.2)  # Ajusta el margen vertical\n",
    "plt.show()"
   ]
  },
  {
   "cell_type": "markdown",
   "id": "a57f5d52",
   "metadata": {},
   "source": [
    "En el grafico se puede apreciar a simple vista que los ganadores del set suelen hacer mas puntos por set\n",
    "de promedio. Hay partidos muy parejos en los cuales los perdedores han hecho mas de 2.6 puntos por set. Se puede intuir que para ganar hay que promediar mas de 2.6 puntos por game"
   ]
  },
  {
   "cell_type": "code",
   "execution_count": null,
   "id": "f9380f11",
   "metadata": {},
   "outputs": [],
   "source": [
    "#Puntos totales sin errores no forzados del rival \n",
    "plt.figure(figsize=(6, 2))\n",
    "plt.scatter(all[\"tot_snf\"], all[\"result\"], color=\"black\")\n",
    "plt.title(\"Puntos totales sin errores no forzados del rival\")\n",
    "plt.yticks([0,1],[\"Perdedor\",\"Ganador\"])\n",
    "plt.xlabel(\"Cantidad por game\")\n",
    "plt.margins(y=0.2)  # Ajusta el margen vertical\n",
    "plt.show()"
   ]
  },
  {
   "cell_type": "markdown",
   "id": "62a34718",
   "metadata": {},
   "source": [
    "Teniendo en cuenta que para ganar el set, hay que promediar 2.6 puntos por game como minimo, equipos\n",
    "que promedien mas de 2.4 puntos sin errores no forzados, ganan el partido el 100% de las veces, ya que\n",
    "a los puntos que hacen hay que sumarle los puntos de los errores no forzados del rival"
   ]
  },
  {
   "cell_type": "code",
   "execution_count": null,
   "id": "5fec54e4",
   "metadata": {},
   "outputs": [],
   "source": []
  },
  {
   "cell_type": "code",
   "execution_count": null,
   "id": "df050013",
   "metadata": {},
   "outputs": [],
   "source": []
  },
  {
   "cell_type": "code",
   "execution_count": null,
   "id": "1c9c87c1",
   "metadata": {},
   "outputs": [],
   "source": []
  }
 ],
 "metadata": {
  "kernelspec": {
   "display_name": "Python 3 (ipykernel)",
   "language": "python",
   "name": "python3"
  },
  "language_info": {
   "codemirror_mode": {
    "name": "ipython",
    "version": 3
   },
   "file_extension": ".py",
   "mimetype": "text/x-python",
   "name": "python",
   "nbconvert_exporter": "python",
   "pygments_lexer": "ipython3",
   "version": "3.9.13"
  }
 },
 "nbformat": 4,
 "nbformat_minor": 5
}
