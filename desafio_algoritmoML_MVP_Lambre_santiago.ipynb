{
 "cells": [
  {
   "cell_type": "markdown",
   "id": "fdfd81d1",
   "metadata": {},
   "source": [
    "A partir del analisis de partidos de padel, teniendo en cuenta a los equipos (no a los jugadores individuales), se realizará un modelo de machine learning supervisado con el objetivo de predecir cuál pareja gana el set (variable dependiente) a partir de las variables independientes (puntos por game, remates, errores no forzados, etc). También, se evaluará cuáles variables independientes aumentan la precision del modelo y cuales se podrian descartar"
   ]
  },
  {
   "cell_type": "code",
   "execution_count": 1,
   "id": "2a209949",
   "metadata": {},
   "outputs": [],
   "source": [
    "import numpy as np\n",
    "from scipy import stats\n",
    "import pandas as pd \n",
    "import matplotlib.pyplot as plt \n",
    "import seaborn as sns\n",
    "from sklearn.metrics import classification_report, confusion_matrix\n",
    "from sklearn.svm import SVC\n",
    "from sklearn.naive_bayes import GaussianNB\n",
    "from sklearn.linear_model import LogisticRegression\n",
    "from sklearn.neighbors import KNeighborsClassifier\n",
    "from sklearn.model_selection import train_test_split"
   ]
  },
  {
   "cell_type": "code",
   "execution_count": 2,
   "id": "61c4ccb2",
   "metadata": {},
   "outputs": [],
   "source": [
    "df = pd.read_excel(\"_ml1_eqxset.xlsx\")"
   ]
  },
  {
   "cell_type": "code",
   "execution_count": 3,
   "id": "1b77530e",
   "metadata": {},
   "outputs": [],
   "source": [
    "#quitar outlier de sd en bruselas 3er set\n",
    "df.drop(49, axis=0, inplace=True)\n",
    "\n",
    "#cambiar index\n",
    "df.set_index('nombre',inplace=True)"
   ]
  },
  {
   "cell_type": "code",
   "execution_count": 9,
   "id": "28d01f52",
   "metadata": {},
   "outputs": [],
   "source": [
    "#todas las columnas\n",
    "all_cols = ['nf', 'w', 'sm', 'ns', 'csm', 'fondo', 'm3', 'm5',\n",
    "       'm7', 'pto_tot', 'tot_snf', 'ed','games jug', \"set\"]\n",
    "\n",
    "#columnas para ML\n",
    "res_col = [\"nf\", \"pto_tot\", \"tot_snf\", \"games jug\"]"
   ]
  },
  {
   "cell_type": "markdown",
   "id": "b9004368",
   "metadata": {},
   "source": [
    "Del dataframe nos quedamos con los sets en donde no hubo tiebreak, en el cual hay un ganador y un perdedor. El tiebreak tiene reglas diferentes a la de los otros sets, por lo que lo consideramos empate."
   ]
  },
  {
   "cell_type": "code",
   "execution_count": 10,
   "id": "866c1140",
   "metadata": {},
   "outputs": [
    {
     "data": {
      "text/html": [
       "<div>\n",
       "<style scoped>\n",
       "    .dataframe tbody tr th:only-of-type {\n",
       "        vertical-align: middle;\n",
       "    }\n",
       "\n",
       "    .dataframe tbody tr th {\n",
       "        vertical-align: top;\n",
       "    }\n",
       "\n",
       "    .dataframe thead th {\n",
       "        text-align: right;\n",
       "    }\n",
       "</style>\n",
       "<table border=\"1\" class=\"dataframe\">\n",
       "  <thead>\n",
       "    <tr style=\"text-align: right;\">\n",
       "      <th></th>\n",
       "      <th>nf</th>\n",
       "      <th>pto_tot</th>\n",
       "      <th>tot_snf</th>\n",
       "      <th>games jug</th>\n",
       "      <th>result</th>\n",
       "    </tr>\n",
       "    <tr>\n",
       "      <th>nombre</th>\n",
       "      <th></th>\n",
       "      <th></th>\n",
       "      <th></th>\n",
       "      <th></th>\n",
       "      <th></th>\n",
       "    </tr>\n",
       "  </thead>\n",
       "  <tbody>\n",
       "    <tr>\n",
       "      <th>Tap-Coe</th>\n",
       "      <td>0.200</td>\n",
       "      <td>2.900</td>\n",
       "      <td>1.900</td>\n",
       "      <td>1.0</td>\n",
       "      <td>g</td>\n",
       "    </tr>\n",
       "    <tr>\n",
       "      <th>Tap-Coe</th>\n",
       "      <td>0.556</td>\n",
       "      <td>3.444</td>\n",
       "      <td>2.222</td>\n",
       "      <td>1.0</td>\n",
       "      <td>g</td>\n",
       "    </tr>\n",
       "    <tr>\n",
       "      <th>Tap-Coe</th>\n",
       "      <td>0.600</td>\n",
       "      <td>3.200</td>\n",
       "      <td>1.800</td>\n",
       "      <td>1.0</td>\n",
       "      <td>g</td>\n",
       "    </tr>\n",
       "    <tr>\n",
       "      <th>Momo-Sanyo</th>\n",
       "      <td>0.900</td>\n",
       "      <td>2.800</td>\n",
       "      <td>1.900</td>\n",
       "      <td>1.0</td>\n",
       "      <td>g</td>\n",
       "    </tr>\n",
       "    <tr>\n",
       "      <th>Tap-Coe</th>\n",
       "      <td>0.900</td>\n",
       "      <td>2.800</td>\n",
       "      <td>1.900</td>\n",
       "      <td>1.0</td>\n",
       "      <td>g</td>\n",
       "    </tr>\n",
       "  </tbody>\n",
       "</table>\n",
       "</div>"
      ],
      "text/plain": [
       "               nf  pto_tot  tot_snf  games jug result\n",
       "nombre                                               \n",
       "Tap-Coe     0.200    2.900    1.900        1.0      g\n",
       "Tap-Coe     0.556    3.444    2.222        1.0      g\n",
       "Tap-Coe     0.600    3.200    1.800        1.0      g\n",
       "Momo-Sanyo  0.900    2.800    1.900        1.0      g\n",
       "Tap-Coe     0.900    2.800    1.900        1.0      g"
      ]
     },
     "execution_count": 10,
     "metadata": {},
     "output_type": "execute_result"
    }
   ],
   "source": [
    "#df con set ganados\n",
    "df_gano = df[df[\"gano_set\"]==\"g\"]\n",
    "\n",
    "#del set ganado, nos quedamos con las columnas para el ML\n",
    "df_gano = df_gano[res_col]\n",
    "\n",
    "#normalizamos todas las columnas para obtener valores en un game\n",
    "df_ganoxgame = round(df_gano.div(df_gano[\"games jug\"], axis=0),3)\n",
    "\n",
    "#agregamos columna con el resultado g (ganó)\n",
    "df_ganoxgame[\"result\"] =\"g\"\n",
    "\n",
    "df_ganoxgame.head()"
   ]
  },
  {
   "cell_type": "code",
   "execution_count": 11,
   "id": "40c29622",
   "metadata": {},
   "outputs": [
    {
     "data": {
      "text/html": [
       "<div>\n",
       "<style scoped>\n",
       "    .dataframe tbody tr th:only-of-type {\n",
       "        vertical-align: middle;\n",
       "    }\n",
       "\n",
       "    .dataframe tbody tr th {\n",
       "        vertical-align: top;\n",
       "    }\n",
       "\n",
       "    .dataframe thead th {\n",
       "        text-align: right;\n",
       "    }\n",
       "</style>\n",
       "<table border=\"1\" class=\"dataframe\">\n",
       "  <thead>\n",
       "    <tr style=\"text-align: right;\">\n",
       "      <th></th>\n",
       "      <th>nf</th>\n",
       "      <th>pto_tot</th>\n",
       "      <th>tot_snf</th>\n",
       "      <th>games jug</th>\n",
       "      <th>result</th>\n",
       "    </tr>\n",
       "    <tr>\n",
       "      <th>nombre</th>\n",
       "      <th></th>\n",
       "      <th></th>\n",
       "      <th></th>\n",
       "      <th></th>\n",
       "      <th></th>\n",
       "    </tr>\n",
       "  </thead>\n",
       "  <tbody>\n",
       "    <tr>\n",
       "      <th>Gal-Leb</th>\n",
       "      <td>1.000</td>\n",
       "      <td>2.000</td>\n",
       "      <td>1.800</td>\n",
       "      <td>1.0</td>\n",
       "      <td>p</td>\n",
       "    </tr>\n",
       "    <tr>\n",
       "      <th>Tello-Ruiz</th>\n",
       "      <td>1.222</td>\n",
       "      <td>1.889</td>\n",
       "      <td>1.333</td>\n",
       "      <td>1.0</td>\n",
       "      <td>p</td>\n",
       "    </tr>\n",
       "    <tr>\n",
       "      <th>Tello-Ruiz</th>\n",
       "      <td>1.400</td>\n",
       "      <td>2.400</td>\n",
       "      <td>1.800</td>\n",
       "      <td>1.0</td>\n",
       "      <td>p</td>\n",
       "    </tr>\n",
       "    <tr>\n",
       "      <th>Paquito-Chingotto</th>\n",
       "      <td>0.900</td>\n",
       "      <td>3.200</td>\n",
       "      <td>2.300</td>\n",
       "      <td>1.0</td>\n",
       "      <td>p</td>\n",
       "    </tr>\n",
       "    <tr>\n",
       "      <th>Stupa-Di</th>\n",
       "      <td>0.900</td>\n",
       "      <td>3.200</td>\n",
       "      <td>2.300</td>\n",
       "      <td>1.0</td>\n",
       "      <td>p</td>\n",
       "    </tr>\n",
       "  </tbody>\n",
       "</table>\n",
       "</div>"
      ],
      "text/plain": [
       "                      nf  pto_tot  tot_snf  games jug result\n",
       "nombre                                                      \n",
       "Gal-Leb            1.000    2.000    1.800        1.0      p\n",
       "Tello-Ruiz         1.222    1.889    1.333        1.0      p\n",
       "Tello-Ruiz         1.400    2.400    1.800        1.0      p\n",
       "Paquito-Chingotto  0.900    3.200    2.300        1.0      p\n",
       "Stupa-Di           0.900    3.200    2.300        1.0      p"
      ]
     },
     "execution_count": 11,
     "metadata": {},
     "output_type": "execute_result"
    }
   ],
   "source": [
    "#df con set perdidos\n",
    "df_perdio = df[df[\"gano_set\"]==\"p\"]\n",
    "\n",
    "#del set perdio, nos quedamos con las columnas para el ML\n",
    "df_perdio = df_perdio[res_col]\n",
    "\n",
    "#normalizamos todas las columnas para obtener valores en un game\n",
    "df_perdioxgame = round(df_perdio.div(df_perdio[\"games jug\"], axis=0),3)\n",
    "\n",
    "#agregamos columna con el resultado p (perdió)\n",
    "df_perdioxgame[\"result\"] =\"p\"\n",
    "\n",
    "df_perdioxgame.head()"
   ]
  },
  {
   "cell_type": "markdown",
   "id": "2552e521",
   "metadata": {},
   "source": [
    "Concatenamos los dataframes de los sets perdidos y ganados, y transformamos el ganar en 1, y el perder en 0"
   ]
  },
  {
   "cell_type": "code",
   "execution_count": 12,
   "id": "6ff4f234",
   "metadata": {},
   "outputs": [
    {
     "data": {
      "text/html": [
       "<div>\n",
       "<style scoped>\n",
       "    .dataframe tbody tr th:only-of-type {\n",
       "        vertical-align: middle;\n",
       "    }\n",
       "\n",
       "    .dataframe tbody tr th {\n",
       "        vertical-align: top;\n",
       "    }\n",
       "\n",
       "    .dataframe thead th {\n",
       "        text-align: right;\n",
       "    }\n",
       "</style>\n",
       "<table border=\"1\" class=\"dataframe\">\n",
       "  <thead>\n",
       "    <tr style=\"text-align: right;\">\n",
       "      <th></th>\n",
       "      <th>nf</th>\n",
       "      <th>pto_tot</th>\n",
       "      <th>tot_snf</th>\n",
       "      <th>result</th>\n",
       "    </tr>\n",
       "    <tr>\n",
       "      <th>nombre</th>\n",
       "      <th></th>\n",
       "      <th></th>\n",
       "      <th></th>\n",
       "      <th></th>\n",
       "    </tr>\n",
       "  </thead>\n",
       "  <tbody>\n",
       "    <tr>\n",
       "      <th>Tap-Coe</th>\n",
       "      <td>0.200</td>\n",
       "      <td>2.900</td>\n",
       "      <td>1.900</td>\n",
       "      <td>1</td>\n",
       "    </tr>\n",
       "    <tr>\n",
       "      <th>Tap-Coe</th>\n",
       "      <td>0.556</td>\n",
       "      <td>3.444</td>\n",
       "      <td>2.222</td>\n",
       "      <td>1</td>\n",
       "    </tr>\n",
       "    <tr>\n",
       "      <th>Tap-Coe</th>\n",
       "      <td>0.600</td>\n",
       "      <td>3.200</td>\n",
       "      <td>1.800</td>\n",
       "      <td>1</td>\n",
       "    </tr>\n",
       "    <tr>\n",
       "      <th>Momo-Sanyo</th>\n",
       "      <td>0.900</td>\n",
       "      <td>2.800</td>\n",
       "      <td>1.900</td>\n",
       "      <td>1</td>\n",
       "    </tr>\n",
       "    <tr>\n",
       "      <th>Tap-Coe</th>\n",
       "      <td>0.900</td>\n",
       "      <td>2.800</td>\n",
       "      <td>1.900</td>\n",
       "      <td>1</td>\n",
       "    </tr>\n",
       "  </tbody>\n",
       "</table>\n",
       "</div>"
      ],
      "text/plain": [
       "               nf  pto_tot  tot_snf  result\n",
       "nombre                                     \n",
       "Tap-Coe     0.200    2.900    1.900       1\n",
       "Tap-Coe     0.556    3.444    2.222       1\n",
       "Tap-Coe     0.600    3.200    1.800       1\n",
       "Momo-Sanyo  0.900    2.800    1.900       1\n",
       "Tap-Coe     0.900    2.800    1.900       1"
      ]
     },
     "execution_count": 12,
     "metadata": {},
     "output_type": "execute_result"
    }
   ],
   "source": [
    "#unimos dataframes\n",
    "all = pd.concat([df_ganoxgame, df_perdioxgame])\n",
    "\n",
    "#borramos la columna con los games jugados porque no tienen utilidad\n",
    "all.drop(\"games jug\", axis=1, inplace=True)\n",
    "\n",
    "#transformamos la variable de categorica a numerica. g es 1, p es 0\n",
    "all[\"result\"] = np.where(all[\"result\"] == \"g\",1,0)\n",
    "all.head()"
   ]
  },
  {
   "cell_type": "markdown",
   "id": "86122300",
   "metadata": {},
   "source": [
    "se crea la funcion entrenar y se entrena con el 80%"
   ]
  },
  {
   "cell_type": "code",
   "execution_count": 13,
   "id": "2dc9331b",
   "metadata": {},
   "outputs": [],
   "source": [
    "def entrenar(df_):\n",
    "    xx = df_[df_.columns[:-1]].values\n",
    "    yy = df_[df_.columns[-1]].values\n",
    "    \n",
    "    return xx, yy\n",
    "xx, yy = entrenar(all)\n",
    "\n",
    "x_train, x_test, y_train, y_test = train_test_split(xx,yy, test_size=0.2, random_state=45, stratify=yy)\n"
   ]
  },
  {
   "cell_type": "markdown",
   "id": "7a61e4e1",
   "metadata": {},
   "source": [
    "se crea la funcion vecinos para evaluar cantidad de k optima"
   ]
  },
  {
   "cell_type": "code",
   "execution_count": 14,
   "id": "3af5a59c",
   "metadata": {},
   "outputs": [
    {
     "data": {
      "image/png": "[encoded data removed]",
      "text/plain": [
       "<Figure size 640x480 with 1 Axes>"
      ]
     },
     "metadata": {},
     "output_type": "display_data"
    }
   ],
   "source": [
    "def vecinos():\n",
    "    neighbors = np.arange(1,13)\n",
    "    train_accuracies = {}\n",
    "    test_accuracies = {}\n",
    "    for neighbor in neighbors:\n",
    "        model = KNeighborsClassifier(n_neighbors=neighbor)\n",
    "        model.fit(x_train, y_train)\n",
    "    \n",
    "        #computar precision\n",
    "        train_accuracies[neighbor] = round(model.score(x_train, y_train),3)\n",
    "        test_accuracies[neighbor] = round(model.score(x_test, y_test),3)\n",
    "    #print(test_accuracies)\n",
    "    #print(neighbor,\"\\n\", train_accuracies, \"\\n\", test_accuracies)\n",
    "    plt.title(\"KNN: buscar numero de K\")\n",
    "    plt.plot(neighbors, train_accuracies.values(),label= \"training accuracy\")\n",
    "    plt.plot(neighbors, test_accuracies.values(), label = \"Testing accuracy\")\n",
    "    plt.legend()\n",
    "    plt.xlabel(\"num de k\")\n",
    "    plt.ylabel(\"Accuracy\")\n",
    "    plt.show()\n",
    "vecinos()"
   ]
  },
  {
   "cell_type": "markdown",
   "id": "a9593cf0",
   "metadata": {},
   "source": [
    "3 es el k con la acurracy mas alta, por lo que se usará k=3 en el modelo de KNeighborsClassifier"
   ]
  },
  {
   "cell_type": "code",
   "execution_count": 15,
   "id": "e1703741",
   "metadata": {},
   "outputs": [],
   "source": [
    "num_k = 3\n",
    "\n",
    "\n",
    "#elegir modelo\n",
    "knn = KNeighborsClassifier(n_neighbors=num_k)\n",
    "lg = LogisticRegression()\n",
    "svm_model = SVC() #support vector machine\n",
    "nb = GaussianNB() #naibes\n",
    "\n",
    "\n",
    "mejor_modelo = None\n",
    "mejor_puntaje = 0\n",
    "dicc_prec = {}\n",
    "list_model = {\"knn\":knn, \"lg\":lg, \"svm\":svm_model, \"nb\":nb}\n",
    "\n",
    "for key, modelo in list_model.items():\n",
    "    modelo.fit(x_train, y_train)\n",
    "    y_pred = modelo.predict(x_test)\n",
    "\n",
    "    #obtenemos el puntaje\n",
    "    puntaje = modelo.score(x_test, y_test)\n",
    "    dicc_prec[key] = puntaje\n",
    "    \n",
    "    if puntaje > mejor_puntaje:\n",
    "        mejor_puntaje = puntaje\n",
    "        mejor_modelo = modelo\n",
    "        \n",
    "#tenemos el mejor modelo es la variable, mejor_modelo, asi que ahora se entrena\n",
    "mejor_modelo.fit(x_train, y_train)\n",
    "y_predict = mejor_modelo.predict(x_test)\n"
   ]
  },
  {
   "cell_type": "code",
   "execution_count": 16,
   "id": "5c2ece63",
   "metadata": {},
   "outputs": [
    {
     "name": "stdout",
     "output_type": "stream",
     "text": [
      "El modelo con el mayor puntaje es: SVC() 0.97\n"
     ]
    }
   ],
   "source": [
    "print(\"El modelo con el mayor puntaje es:\", mejor_modelo, round(mejor_puntaje,2))"
   ]
  },
  {
   "cell_type": "code",
   "execution_count": 17,
   "id": "2551a360",
   "metadata": {},
   "outputs": [
    {
     "name": "stdout",
     "output_type": "stream",
     "text": [
      "              precision    recall  f1-score   support\n",
      "\n",
      "           0       1.00      0.93      0.96        14\n",
      "           1       0.94      1.00      0.97        15\n",
      "\n",
      "    accuracy                           0.97        29\n",
      "   macro avg       0.97      0.96      0.97        29\n",
      "weighted avg       0.97      0.97      0.97        29\n",
      "\n"
     ]
    }
   ],
   "source": [
    "print(classification_report(y_test, y_pred))"
   ]
  },
  {
   "cell_type": "code",
   "execution_count": 18,
   "id": "ce090c32",
   "metadata": {},
   "outputs": [
    {
     "data": {
      "image/png": "[encoded data removed]",
      "text/plain": [
       "<Figure size 640x480 with 2 Axes>"
      ]
     },
     "metadata": {},
     "output_type": "display_data"
    }
   ],
   "source": [
    "cf_matrix = confusion_matrix(y_test,y_predict)\n",
    "ax = sns.heatmap(cf_matrix, annot=True, cmap=\"Blues\")\n",
    "ax.set_title(\"Matrix de confusion con labels\\n\\n\")\n",
    "ax.set_xlabel(\"Valores predichos\")\n",
    "ax.set_ylabel(\"Valores reales\")\n",
    "#ticket labels en orden alfabetico\n",
    "ax.xaxis.set_ticklabels([\"Negativo\", \"Positivo\"])\n",
    "ax.yaxis.set_ticklabels([\"Negativo\", \"Positivo\"])\n",
    "plt.show()"
   ]
  },
  {
   "cell_type": "markdown",
   "id": "499521e5",
   "metadata": {},
   "source": [
    "el modelo tenia 97% de precision, por lo que se observa que solo en una observacion hubo un falso positivo, habian perdido pero lo predijo como que habian ganado el set."
   ]
  }
 ],
 "metadata": {
  "kernelspec": {
   "display_name": "Python 3 (ipykernel)",
   "language": "python",
   "name": "python3"
  },
  "language_info": {
   "codemirror_mode": {
    "name": "ipython",
    "version": 3
   },
   "file_extension": ".py",
   "mimetype": "text/x-python",
   "name": "python",
   "nbconvert_exporter": "python",
   "pygments_lexer": "ipython3",
   "version": "3.9.13"
  }
 },
 "nbformat": 4,
 "nbformat_minor": 5
}
