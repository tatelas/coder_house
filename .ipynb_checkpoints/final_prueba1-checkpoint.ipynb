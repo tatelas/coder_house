{
 "cells": [
  {
   "cell_type": "markdown",
   "id": "e64129eb",
   "metadata": {},
   "source": [
    "Hay una formula a seguir a la hora de juntar jugadores para que formen una pareja de padel?\n",
    "\n",
    "El objetivo del trabajo es evaluar si hay combinaciones entre jugadores de padel que tengan mas probabilidades de ganar un partido y tambien si hay combinaciones con pocas probabilidades de exito. Para esto analizaremos las estadisticas de juego de cada uno y las estadisticas de los partidos, diferenciando equipo que ganó el set y equipo que lo perdió\n",
    "\n",
    "Un aspecto particular del padel es que se puede cambiar de pareja varias veces al año, si un jugador quiere cambiar de compañero, lo puede hacer sin restricciones. Esto es una herramienta muy utilizada por los jugadores para sobrellevar los malos resultados, con sus pros y contras\n",
    "\n",
    "\n",
    "Aplicacion estrategica: es importante destacar, que a diferencia de otros deportes, el padel es un deporte en crecimiento y los premios monetarios que representan una real diferencia económica son para los primeros puestos del torneo, por lo que, encontrar una fórmula para maximizar las posibilidades de terminar entre los primeros, es decisivo para la carrera de un jugador de padel profesional y los entrenadores, que también van cambiando según cambian las parejas. "
   ]
  },
  {
   "cell_type": "code",
   "execution_count": 1,
   "id": "0bf6d89c",
   "metadata": {},
   "outputs": [],
   "source": [
    "import numpy as np\n",
    "import pandas as pd\n",
    "from matplotlib import pyplot as plt\n",
    "import seaborn as sns\n",
    "from sklearn.cluster import KMeans\n",
    "\n",
    "from sklearn.decomposition import PCA\n",
    "from sklearn.pipeline import make_pipeline\n",
    "from sklearn.preprocessing import StandardScaler\n",
    "from sklearn.preprocessing import scale\n",
    "import statsmodels.api as sm\n",
    "from scipy.cluster.hierarchy import linkage, dendrogram"
   ]
  },
  {
   "cell_type": "code",
   "execution_count": 2,
   "id": "022205ac",
   "metadata": {},
   "outputs": [],
   "source": [
    "df_data = pd.read_excel(\"_ml_jug.xlsx\")"
   ]
  },
  {
   "cell_type": "markdown",
   "id": "830540b0",
   "metadata": {},
   "source": [
    "Análisis del dataset"
   ]
  },
  {
   "cell_type": "code",
   "execution_count": 3,
   "id": "7dff4c59",
   "metadata": {},
   "outputs": [
    {
     "data": {
      "text/plain": [
       "(1128, 26)"
      ]
     },
     "execution_count": 3,
     "metadata": {},
     "output_type": "execute_result"
    }
   ],
   "source": [
    "df_data.shape"
   ]
  },
  {
   "cell_type": "code",
   "execution_count": 4,
   "id": "e5044cd2",
   "metadata": {},
   "outputs": [
    {
     "data": {
      "text/plain": [
       "Index(['nombre', 'edad', 'alt', 'pos', 'torneo', 'set', 'saque', 'NF_total',\n",
       "       'w_total', 'sm_total', 'nsmtotal', 'prec sm%', 'csm', 'fondo', 'm3',\n",
       "       'm5', 'm7', 'pts_ganados', 'games_jug', 'circuito', 'fase', 'mano',\n",
       "       'spcsm', 'bloc', 'partido', 'nfr'],\n",
       "      dtype='object')"
      ]
     },
     "execution_count": 4,
     "metadata": {},
     "output_type": "execute_result"
    }
   ],
   "source": [
    "df_data.columns"
   ]
  },
  {
   "cell_type": "code",
   "execution_count": 5,
   "id": "6ff2acb9",
   "metadata": {
    "scrolled": true
   },
   "outputs": [
    {
     "data": {
      "text/html": [
       "<div>\n",
       "<style scoped>\n",
       "    .dataframe tbody tr th:only-of-type {\n",
       "        vertical-align: middle;\n",
       "    }\n",
       "\n",
       "    .dataframe tbody tr th {\n",
       "        vertical-align: top;\n",
       "    }\n",
       "\n",
       "    .dataframe thead th {\n",
       "        text-align: right;\n",
       "    }\n",
       "</style>\n",
       "<table border=\"1\" class=\"dataframe\">\n",
       "  <thead>\n",
       "    <tr style=\"text-align: right;\">\n",
       "      <th></th>\n",
       "      <th>edad</th>\n",
       "      <th>alt</th>\n",
       "      <th>saque</th>\n",
       "      <th>NF_total</th>\n",
       "      <th>w_total</th>\n",
       "      <th>sm_total</th>\n",
       "      <th>nsmtotal</th>\n",
       "      <th>prec sm%</th>\n",
       "      <th>csm</th>\n",
       "      <th>fondo</th>\n",
       "      <th>m3</th>\n",
       "      <th>m5</th>\n",
       "      <th>m7</th>\n",
       "      <th>pts_ganados</th>\n",
       "      <th>games_jug</th>\n",
       "      <th>spcsm</th>\n",
       "      <th>bloc</th>\n",
       "      <th>nfr</th>\n",
       "    </tr>\n",
       "  </thead>\n",
       "  <tbody>\n",
       "    <tr>\n",
       "      <th>count</th>\n",
       "      <td>1128.00</td>\n",
       "      <td>1128.00</td>\n",
       "      <td>1128.0</td>\n",
       "      <td>1128.00</td>\n",
       "      <td>1128.00</td>\n",
       "      <td>1128.00</td>\n",
       "      <td>1128.00</td>\n",
       "      <td>840.00</td>\n",
       "      <td>1128.00</td>\n",
       "      <td>1128.00</td>\n",
       "      <td>1128.00</td>\n",
       "      <td>1128.00</td>\n",
       "      <td>1128.00</td>\n",
       "      <td>1128.00</td>\n",
       "      <td>1128.00</td>\n",
       "      <td>424.00</td>\n",
       "      <td>424.00</td>\n",
       "      <td>80.00</td>\n",
       "    </tr>\n",
       "    <tr>\n",
       "      <th>mean</th>\n",
       "      <td>27.14</td>\n",
       "      <td>1.81</td>\n",
       "      <td>1.5</td>\n",
       "      <td>2.03</td>\n",
       "      <td>3.41</td>\n",
       "      <td>1.61</td>\n",
       "      <td>0.83</td>\n",
       "      <td>64.78</td>\n",
       "      <td>0.35</td>\n",
       "      <td>0.25</td>\n",
       "      <td>1.05</td>\n",
       "      <td>1.74</td>\n",
       "      <td>3.69</td>\n",
       "      <td>6.48</td>\n",
       "      <td>4.72</td>\n",
       "      <td>0.45</td>\n",
       "      <td>0.15</td>\n",
       "      <td>1.50</td>\n",
       "    </tr>\n",
       "    <tr>\n",
       "      <th>std</th>\n",
       "      <td>6.14</td>\n",
       "      <td>0.05</td>\n",
       "      <td>0.5</td>\n",
       "      <td>1.58</td>\n",
       "      <td>2.42</td>\n",
       "      <td>1.78</td>\n",
       "      <td>1.14</td>\n",
       "      <td>34.18</td>\n",
       "      <td>0.69</td>\n",
       "      <td>0.53</td>\n",
       "      <td>1.22</td>\n",
       "      <td>1.57</td>\n",
       "      <td>2.30</td>\n",
       "      <td>3.39</td>\n",
       "      <td>0.89</td>\n",
       "      <td>0.71</td>\n",
       "      <td>0.45</td>\n",
       "      <td>1.40</td>\n",
       "    </tr>\n",
       "    <tr>\n",
       "      <th>min</th>\n",
       "      <td>18.00</td>\n",
       "      <td>1.67</td>\n",
       "      <td>1.0</td>\n",
       "      <td>0.00</td>\n",
       "      <td>0.00</td>\n",
       "      <td>0.00</td>\n",
       "      <td>0.00</td>\n",
       "      <td>0.00</td>\n",
       "      <td>0.00</td>\n",
       "      <td>0.00</td>\n",
       "      <td>0.00</td>\n",
       "      <td>0.00</td>\n",
       "      <td>0.00</td>\n",
       "      <td>0.00</td>\n",
       "      <td>3.00</td>\n",
       "      <td>0.00</td>\n",
       "      <td>0.00</td>\n",
       "      <td>0.00</td>\n",
       "    </tr>\n",
       "    <tr>\n",
       "      <th>25%</th>\n",
       "      <td>23.00</td>\n",
       "      <td>1.75</td>\n",
       "      <td>1.0</td>\n",
       "      <td>1.00</td>\n",
       "      <td>2.00</td>\n",
       "      <td>0.00</td>\n",
       "      <td>0.00</td>\n",
       "      <td>50.00</td>\n",
       "      <td>0.00</td>\n",
       "      <td>0.00</td>\n",
       "      <td>0.00</td>\n",
       "      <td>1.00</td>\n",
       "      <td>2.00</td>\n",
       "      <td>4.00</td>\n",
       "      <td>4.00</td>\n",
       "      <td>0.00</td>\n",
       "      <td>0.00</td>\n",
       "      <td>0.00</td>\n",
       "    </tr>\n",
       "    <tr>\n",
       "      <th>50%</th>\n",
       "      <td>26.00</td>\n",
       "      <td>1.80</td>\n",
       "      <td>1.5</td>\n",
       "      <td>2.00</td>\n",
       "      <td>3.00</td>\n",
       "      <td>1.00</td>\n",
       "      <td>0.00</td>\n",
       "      <td>67.00</td>\n",
       "      <td>0.00</td>\n",
       "      <td>0.00</td>\n",
       "      <td>1.00</td>\n",
       "      <td>1.00</td>\n",
       "      <td>3.00</td>\n",
       "      <td>6.00</td>\n",
       "      <td>5.00</td>\n",
       "      <td>0.00</td>\n",
       "      <td>0.00</td>\n",
       "      <td>1.00</td>\n",
       "    </tr>\n",
       "    <tr>\n",
       "      <th>75%</th>\n",
       "      <td>29.00</td>\n",
       "      <td>1.85</td>\n",
       "      <td>2.0</td>\n",
       "      <td>3.00</td>\n",
       "      <td>5.00</td>\n",
       "      <td>2.00</td>\n",
       "      <td>1.00</td>\n",
       "      <td>100.00</td>\n",
       "      <td>1.00</td>\n",
       "      <td>0.00</td>\n",
       "      <td>2.00</td>\n",
       "      <td>3.00</td>\n",
       "      <td>5.00</td>\n",
       "      <td>9.00</td>\n",
       "      <td>5.00</td>\n",
       "      <td>1.00</td>\n",
       "      <td>0.00</td>\n",
       "      <td>2.25</td>\n",
       "    </tr>\n",
       "    <tr>\n",
       "      <th>max</th>\n",
       "      <td>47.00</td>\n",
       "      <td>1.90</td>\n",
       "      <td>2.0</td>\n",
       "      <td>9.00</td>\n",
       "      <td>13.00</td>\n",
       "      <td>9.00</td>\n",
       "      <td>7.00</td>\n",
       "      <td>100.00</td>\n",
       "      <td>6.00</td>\n",
       "      <td>3.00</td>\n",
       "      <td>9.00</td>\n",
       "      <td>9.00</td>\n",
       "      <td>15.00</td>\n",
       "      <td>17.00</td>\n",
       "      <td>6.00</td>\n",
       "      <td>3.00</td>\n",
       "      <td>3.00</td>\n",
       "      <td>4.00</td>\n",
       "    </tr>\n",
       "  </tbody>\n",
       "</table>\n",
       "</div>"
      ],
      "text/plain": [
       "          edad      alt   saque  NF_total  w_total  sm_total  nsmtotal  \\\n",
       "count  1128.00  1128.00  1128.0   1128.00  1128.00   1128.00   1128.00   \n",
       "mean     27.14     1.81     1.5      2.03     3.41      1.61      0.83   \n",
       "std       6.14     0.05     0.5      1.58     2.42      1.78      1.14   \n",
       "min      18.00     1.67     1.0      0.00     0.00      0.00      0.00   \n",
       "25%      23.00     1.75     1.0      1.00     2.00      0.00      0.00   \n",
       "50%      26.00     1.80     1.5      2.00     3.00      1.00      0.00   \n",
       "75%      29.00     1.85     2.0      3.00     5.00      2.00      1.00   \n",
       "max      47.00     1.90     2.0      9.00    13.00      9.00      7.00   \n",
       "\n",
       "       prec sm%      csm    fondo       m3       m5       m7  pts_ganados  \\\n",
       "count    840.00  1128.00  1128.00  1128.00  1128.00  1128.00      1128.00   \n",
       "mean      64.78     0.35     0.25     1.05     1.74     3.69         6.48   \n",
       "std       34.18     0.69     0.53     1.22     1.57     2.30         3.39   \n",
       "min        0.00     0.00     0.00     0.00     0.00     0.00         0.00   \n",
       "25%       50.00     0.00     0.00     0.00     1.00     2.00         4.00   \n",
       "50%       67.00     0.00     0.00     1.00     1.00     3.00         6.00   \n",
       "75%      100.00     1.00     0.00     2.00     3.00     5.00         9.00   \n",
       "max      100.00     6.00     3.00     9.00     9.00    15.00        17.00   \n",
       "\n",
       "       games_jug   spcsm    bloc    nfr  \n",
       "count    1128.00  424.00  424.00  80.00  \n",
       "mean        4.72    0.45    0.15   1.50  \n",
       "std         0.89    0.71    0.45   1.40  \n",
       "min         3.00    0.00    0.00   0.00  \n",
       "25%         4.00    0.00    0.00   0.00  \n",
       "50%         5.00    0.00    0.00   1.00  \n",
       "75%         5.00    1.00    0.00   2.25  \n",
       "max         6.00    3.00    3.00   4.00  "
      ]
     },
     "execution_count": 5,
     "metadata": {},
     "output_type": "execute_result"
    }
   ],
   "source": [
    "round(df_data.describe(),2)"
   ]
  },
  {
   "cell_type": "code",
   "execution_count": 6,
   "id": "cb3ec635",
   "metadata": {},
   "outputs": [
    {
     "data": {
      "text/plain": [
       "nombre            0\n",
       "edad              0\n",
       "alt               0\n",
       "pos               0\n",
       "torneo            0\n",
       "set               0\n",
       "saque             0\n",
       "NF_total          0\n",
       "w_total           0\n",
       "sm_total          0\n",
       "nsmtotal          0\n",
       "prec sm%        288\n",
       "csm               0\n",
       "fondo             0\n",
       "m3                0\n",
       "m5                0\n",
       "m7                0\n",
       "pts_ganados       0\n",
       "games_jug         0\n",
       "circuito          0\n",
       "fase              0\n",
       "mano              0\n",
       "spcsm           704\n",
       "bloc            704\n",
       "partido         704\n",
       "nfr            1048\n",
       "dtype: int64"
      ]
     },
     "execution_count": 6,
     "metadata": {},
     "output_type": "execute_result"
    }
   ],
   "source": [
    "df_data.isna().sum()"
   ]
  },
  {
   "cell_type": "markdown",
   "id": "3698ba15",
   "metadata": {},
   "source": [
    "Hay valores NaN en prec sm% - esto seria la efectividad de los remates, pero como hay jugadores que no rematan en un set, para no computar un 0 en su promedio, se lo deja como Nan. Al hacer la media total de cada caracteristica, este valor va a dejar de ser Nan porque todos los jugadores remataron al menos una vez\n",
    "Las ultimas 4 caracteristicas van a ser borradas del df ya que no hay de todos los jugadores, y no son importantes"
   ]
  },
  {
   "cell_type": "code",
   "execution_count": null,
   "id": "551f792e",
   "metadata": {},
   "outputs": [],
   "source": []
  },
  {
   "cell_type": "markdown",
   "id": "cea74fcf",
   "metadata": {},
   "source": [
    "Aprendizaje no supervisado - KMEANS"
   ]
  },
  {
   "cell_type": "code",
   "execution_count": null,
   "id": "4d87c770",
   "metadata": {},
   "outputs": [],
   "source": []
  },
  {
   "cell_type": "markdown",
   "id": "6a0b731b",
   "metadata": {},
   "source": [
    "Se va a crear un df dividiendo las caracteristicas por la cantidad de games jugados.\n",
    "Se eligieron las 3 columnas mas relevantes al analizar partidos, como son los puntos por game (pxg), errores no forzados por game (nfxg) y remates por game (rem)"
   ]
  },
  {
   "cell_type": "code",
   "execution_count": 7,
   "id": "09d7ff48",
   "metadata": {},
   "outputs": [],
   "source": [
    "df_clean = pd.DataFrame()\n",
    "df_clean = df_clean.assign(name = df_data[\"nombre\"])\n",
    "df_clean = df_clean.assign(pxg = df_data[\"pts_ganados\"]/df_data['games_jug'])\n",
    "df_clean= df_clean.assign(nfxg = df_data[\"NF_total\"]/df_data['games_jug'])\n",
    "df_clean = df_clean.assign(rem = (df_data[\"sm_total\"] + df_data[\"nsmtotal\"])/df_data['games_jug'])\n",
    "\n",
    "df_clean = df_clean.groupby(\"name\")[[\"pxg\",\"nfxg\",\"rem\"]].mean().sort_values(by=\"pxg\", ascending=False)\n",
    "\n",
    "#nombre de los jugadores \n",
    "df_clean_index = df_clean.index\n",
    "df_clean.reset_index(inplace =True, drop=True)\n",
    "\n",
    "df_clean1 = df_clean\n",
    "df_clean = df_clean.values\n",
    "\n",
    "\n"
   ]
  },
  {
   "cell_type": "code",
   "execution_count": 8,
   "id": "2553b070",
   "metadata": {},
   "outputs": [
    {
     "name": "stderr",
     "output_type": "stream",
     "text": [
      "C:\\Users\\UsuarioW10\\anaconda3\\lib\\site-packages\\sklearn\\cluster\\_kmeans.py:1382: UserWarning: KMeans is known to have a memory leak on Windows with MKL, when there are less chunks than available threads. You can avoid it by setting the environment variable OMP_NUM_THREADS=1.\n",
      "  warnings.warn(\n",
      "C:\\Users\\UsuarioW10\\anaconda3\\lib\\site-packages\\sklearn\\cluster\\_kmeans.py:1382: UserWarning: KMeans is known to have a memory leak on Windows with MKL, when there are less chunks than available threads. You can avoid it by setting the environment variable OMP_NUM_THREADS=1.\n",
      "  warnings.warn(\n",
      "C:\\Users\\UsuarioW10\\anaconda3\\lib\\site-packages\\sklearn\\cluster\\_kmeans.py:1382: UserWarning: KMeans is known to have a memory leak on Windows with MKL, when there are less chunks than available threads. You can avoid it by setting the environment variable OMP_NUM_THREADS=1.\n",
      "  warnings.warn(\n",
      "C:\\Users\\UsuarioW10\\anaconda3\\lib\\site-packages\\sklearn\\cluster\\_kmeans.py:1382: UserWarning: KMeans is known to have a memory leak on Windows with MKL, when there are less chunks than available threads. You can avoid it by setting the environment variable OMP_NUM_THREADS=1.\n",
      "  warnings.warn(\n",
      "C:\\Users\\UsuarioW10\\anaconda3\\lib\\site-packages\\sklearn\\cluster\\_kmeans.py:1382: UserWarning: KMeans is known to have a memory leak on Windows with MKL, when there are less chunks than available threads. You can avoid it by setting the environment variable OMP_NUM_THREADS=1.\n",
      "  warnings.warn(\n",
      "C:\\Users\\UsuarioW10\\anaconda3\\lib\\site-packages\\sklearn\\cluster\\_kmeans.py:1382: UserWarning: KMeans is known to have a memory leak on Windows with MKL, when there are less chunks than available threads. You can avoid it by setting the environment variable OMP_NUM_THREADS=1.\n",
      "  warnings.warn(\n",
      "C:\\Users\\UsuarioW10\\anaconda3\\lib\\site-packages\\sklearn\\cluster\\_kmeans.py:1382: UserWarning: KMeans is known to have a memory leak on Windows with MKL, when there are less chunks than available threads. You can avoid it by setting the environment variable OMP_NUM_THREADS=1.\n",
      "  warnings.warn(\n",
      "C:\\Users\\UsuarioW10\\anaconda3\\lib\\site-packages\\sklearn\\cluster\\_kmeans.py:1382: UserWarning: KMeans is known to have a memory leak on Windows with MKL, when there are less chunks than available threads. You can avoid it by setting the environment variable OMP_NUM_THREADS=1.\n",
      "  warnings.warn(\n",
      "C:\\Users\\UsuarioW10\\anaconda3\\lib\\site-packages\\sklearn\\cluster\\_kmeans.py:1382: UserWarning: KMeans is known to have a memory leak on Windows with MKL, when there are less chunks than available threads. You can avoid it by setting the environment variable OMP_NUM_THREADS=1.\n",
      "  warnings.warn(\n",
      "C:\\Users\\UsuarioW10\\anaconda3\\lib\\site-packages\\sklearn\\cluster\\_kmeans.py:1382: UserWarning: KMeans is known to have a memory leak on Windows with MKL, when there are less chunks than available threads. You can avoid it by setting the environment variable OMP_NUM_THREADS=1.\n",
      "  warnings.warn(\n"
     ]
    },
    {
     "data": {
      "text/plain": [
       "Text(0, 0.5, 'Inercia')"
      ]
     },
     "execution_count": 8,
     "metadata": {},
     "output_type": "execute_result"
    },
    {
     "data": {
      "image/png": "[encoded data removed]",
      "text/plain": [
       "<Figure size 640x480 with 1 Axes>"
      ]
     },
     "metadata": {},
     "output_type": "display_data"
    }
   ],
   "source": [
    "wcss = []\n",
    "for i in range(1, 11):\n",
    "    codo = KMeans(n_clusters=i, init='k-means++', max_iter=300, n_init=10, random_state=0)\n",
    "    codo.fit(df_clean)\n",
    "    wcss.append(codo.inertia_)\n",
    "plt.plot(range(1, 11), wcss)\n",
    "plt.title('Metodo del codo')\n",
    "plt.xlabel('Numero de clusters')\n",
    "plt.ylabel('Inercia')"
   ]
  },
  {
   "cell_type": "markdown",
   "id": "dc3233a6",
   "metadata": {},
   "source": [
    "Si bien las posibilidades para agrupar podrian ser desde 2 cluster hasta 4, el análisis previo del deporte divide a los jugadores en 3 grupos: Los que se destacan por la cantidad de puntos que hacen(ofensivos), los que se destacan defensivamente (defensivos), y en el medio jugadores hibridos, asi que elegimos separar a los jugadores en 3 clusters"
   ]
  },
  {
   "cell_type": "markdown",
   "id": "2a8e876e",
   "metadata": {},
   "source": [
    "Instanciar modelo "
   ]
  },
  {
   "cell_type": "code",
   "execution_count": 9,
   "id": "db1346b8",
   "metadata": {
    "scrolled": true
   },
   "outputs": [
    {
     "name": "stderr",
     "output_type": "stream",
     "text": [
      "C:\\Users\\UsuarioW10\\anaconda3\\lib\\site-packages\\sklearn\\cluster\\_kmeans.py:1382: UserWarning: KMeans is known to have a memory leak on Windows with MKL, when there are less chunks than available threads. You can avoid it by setting the environment variable OMP_NUM_THREADS=1.\n",
      "  warnings.warn(\n"
     ]
    }
   ],
   "source": [
    "model = KMeans(n_clusters=3, init='k-means++', max_iter=300, n_init=10, random_state=1)\n",
    "pred_y = model.fit_predict(df_clean)\n",
    "\n",
    "\n"
   ]
  },
  {
   "cell_type": "code",
   "execution_count": 10,
   "id": "34e56abe",
   "metadata": {},
   "outputs": [
    {
     "data": {
      "image/png": "[encoded data removed]",
      "text/plain": [
       "<Figure size 640x480 with 1 Axes>"
      ]
     },
     "metadata": {},
     "output_type": "display_data"
    }
   ],
   "source": [
    "plt.scatter(df_clean[:,0], df_clean[:,1])\n",
    "plt.scatter(model.cluster_centers_[:, 0], model.cluster_centers_[:, 1], s=300, c='red')\n",
    "plt.show()"
   ]
  },
  {
   "cell_type": "markdown",
   "id": "ab073b75",
   "metadata": {},
   "source": [
    "Como los datos estan cerca pero no comprimidos, me pareció que es mejor dejar los outliers porque sino menos dispersos estarian los datos, y mas cerca entre si los centromeros, siendo minima la diferencia entre ir a un grupo u otro."
   ]
  },
  {
   "cell_type": "markdown",
   "id": "1c5990d4",
   "metadata": {},
   "source": [
    "Preprocesado y modelado"
   ]
  },
  {
   "cell_type": "code",
   "execution_count": 11,
   "id": "f55a8ee1",
   "metadata": {},
   "outputs": [
    {
     "name": "stdout",
     "output_type": "stream",
     "text": [
      "Porcentaje de varianza explicada por cada componente\n",
      "[0.55520096 0.30980206 0.13499698]\n"
     ]
    },
    {
     "data": {
      "text/plain": [
       "Text(0, 0.5, 'Por. varianza explicada')"
      ]
     },
     "execution_count": 11,
     "metadata": {},
     "output_type": "execute_result"
    },
    {
     "data": {
      "image/png": "[encoded data removed]",
      "text/plain": [
       "<Figure size 1000x500 with 1 Axes>"
      ]
     },
     "metadata": {},
     "output_type": "display_data"
    }
   ],
   "source": [
    "df_cluster =df_clean1\n",
    "# Entrenamiento modelo PCA con escalado de los datos\n",
    "pca_pipe = make_pipeline(StandardScaler(), PCA())\n",
    "pca_pipe.fit(df_cluster)\n",
    "\n",
    "# Se extrae el modelo entrenado del pipeline\n",
    "modelo_pca = pca_pipe.named_steps['pca']\n",
    "\n",
    "# Porcentaje de varianza explicada por cada componente\n",
    "print('Porcentaje de varianza explicada por cada componente')\n",
    "print(modelo_pca.explained_variance_ratio_)\n",
    "\n",
    "\n",
    "import seaborn as sns;sns.set_style(\"whitegrid\")\n",
    "\n",
    "fig, ax = plt.subplots(nrows=1, ncols=1, figsize=(10, 5))\n",
    "ax.bar(x= np.arange(modelo_pca.n_components_) + 1,height = modelo_pca.explained_variance_ratio_)\n",
    "for x, y in zip(np.arange(len(df_cluster.columns)) + 1, modelo_pca.explained_variance_ratio_):\n",
    "    label = round(y, 2)\n",
    "    ax.annotate(label,(x,y),textcoords=\"offset points\",xytext=(0,10),ha='center')\n",
    "ax.set_xticks(np.arange(modelo_pca.n_components_) + 1);ax.set_ylim(0, 1.1)\n",
    "ax.set_title('Porcentaje de varianza explicada por cada componente')\n",
    "ax.set_xlabel('Componente principal')\n",
    "ax.set_ylabel('Por. varianza explicada')"
   ]
  },
  {
   "cell_type": "markdown",
   "id": "e4410c91",
   "metadata": {},
   "source": [
    "El PCA mostró la columna puntos por game como la que mejor explica al modelo - 56%. Esto concuerda con la division de roles de una pareja, en la cual si hay un jugador que hace pocos puntos se junta con uno que haga muchos puntos. Y, en el medio, hay jugadores que son mas hibridos, los cuales tienen un rendimiento variado en cuanto a los puntos por game y los errores no forzados que cometen. Como veremos en el siguiente grafico, al agregar los remates, se puede ver que tambien esta columna podria dividir en los mismos cluster a los jugadores, a pesar de que en el PCA explica el 13% de la varianza. Esto deja a entrever que los jugadores que mas puntos hacen aprovechan la via del remate para hacerlos"
   ]
  },
  {
   "cell_type": "code",
   "execution_count": 12,
   "id": "eba24655",
   "metadata": {},
   "outputs": [
    {
     "name": "stderr",
     "output_type": "stream",
     "text": [
      "C:\\Users\\UsuarioW10\\anaconda3\\lib\\site-packages\\sklearn\\cluster\\_kmeans.py:1382: UserWarning: KMeans is known to have a memory leak on Windows with MKL, when there are less chunks than available threads. You can avoid it by setting the environment variable OMP_NUM_THREADS=1.\n",
      "  warnings.warn(\n"
     ]
    }
   ],
   "source": [
    "#Graficar clusters\n",
    "\n",
    "#model con cluster\n",
    "modelcc = model.fit(df_clean)\n",
    "\n",
    "#obtener labels del modelo fitteado\n",
    "labels = modelcc.labels_\n",
    "\n",
    "#agregar los labels al df\n",
    "df_clean1['cluster_label'] = labels\n",
    "\n",
    "#representamos puntos y centroides\n",
    "# Obtener los Centroides\n",
    "centroids = modelcc.cluster_centers_\n",
    "\n",
    "centroids_x = centroids[:,0]\n",
    "centroids_y = centroids[:,1]\n",
    "\n",
    "\n",
    "#cambiar el index por nombres de los jugadores\n",
    "df_clean1.set_index(df_clean_index, inplace=True)\n",
    "#print(cc1.sort_values(\"cluster_label\"))\n",
    "maskcc0 = (df_clean1['cluster_label'] == 0)\n",
    "maskcc1 = (df_clean1['cluster_label'] == 1)\n",
    "maskcc2 = (df_clean1['cluster_label'] == 2)\n",
    "\n",
    "\n",
    "#colores\n",
    "fondo = \"#313332\"\n",
    "verde_lindo = \"#46f892\"\n",
    "verde_claro = \"#b5fdcd\"\n",
    "scattermedia =\"#42424d\" #alpha=0.9\n",
    "text_color = \"w\"\n",
    "color_set1 = '#3ff294' # gran verde\n",
    "color_set2 = '#f4aa51' # amarillo arena naranja\n",
    "celeste = \"#31acce\" \n",
    "celeste_claro = \"#c1e6f0\"\n",
    "\n",
    "\n",
    "# Obtén las coordenadas de los puntos\n",
    "x = df_clean1['pxg']\n",
    "y = df_clean1['rem']\n",
    "names = df_clean_index  # Nombres de los puntos"
   ]
  },
  {
   "cell_type": "markdown",
   "id": "2d453f9e",
   "metadata": {},
   "source": [
    "Los datos de cada jugador en particular por game"
   ]
  },
  {
   "cell_type": "code",
   "execution_count": 13,
   "id": "3e98a704",
   "metadata": {},
   "outputs": [
    {
     "data": {
      "text/html": [
       "<div>\n",
       "<style scoped>\n",
       "    .dataframe tbody tr th:only-of-type {\n",
       "        vertical-align: middle;\n",
       "    }\n",
       "\n",
       "    .dataframe tbody tr th {\n",
       "        vertical-align: top;\n",
       "    }\n",
       "\n",
       "    .dataframe thead th {\n",
       "        text-align: right;\n",
       "    }\n",
       "</style>\n",
       "<table border=\"1\" class=\"dataframe\">\n",
       "  <thead>\n",
       "    <tr style=\"text-align: right;\">\n",
       "      <th></th>\n",
       "      <th>pxg</th>\n",
       "      <th>nfxg</th>\n",
       "      <th>rem</th>\n",
       "      <th>cluster_label</th>\n",
       "    </tr>\n",
       "    <tr>\n",
       "      <th>name</th>\n",
       "      <th></th>\n",
       "      <th></th>\n",
       "      <th></th>\n",
       "      <th></th>\n",
       "    </tr>\n",
       "  </thead>\n",
       "  <tbody>\n",
       "    <tr>\n",
       "      <th>Dalbianco</th>\n",
       "      <td>1.700000</td>\n",
       "      <td>0.346970</td>\n",
       "      <td>0.709848</td>\n",
       "      <td>0</td>\n",
       "    </tr>\n",
       "    <tr>\n",
       "      <th>Paquito</th>\n",
       "      <td>1.699123</td>\n",
       "      <td>0.458772</td>\n",
       "      <td>0.664912</td>\n",
       "      <td>0</td>\n",
       "    </tr>\n",
       "    <tr>\n",
       "      <th>Tolito</th>\n",
       "      <td>1.641667</td>\n",
       "      <td>0.375000</td>\n",
       "      <td>0.486667</td>\n",
       "      <td>0</td>\n",
       "    </tr>\n",
       "    <tr>\n",
       "      <th>Coello</th>\n",
       "      <td>1.593269</td>\n",
       "      <td>0.302564</td>\n",
       "      <td>0.759295</td>\n",
       "      <td>0</td>\n",
       "    </tr>\n",
       "    <tr>\n",
       "      <th>Stupa</th>\n",
       "      <td>1.567568</td>\n",
       "      <td>0.518919</td>\n",
       "      <td>0.666892</td>\n",
       "      <td>0</td>\n",
       "    </tr>\n",
       "  </tbody>\n",
       "</table>\n",
       "</div>"
      ],
      "text/plain": [
       "                pxg      nfxg       rem  cluster_label\n",
       "name                                                  \n",
       "Dalbianco  1.700000  0.346970  0.709848              0\n",
       "Paquito    1.699123  0.458772  0.664912              0\n",
       "Tolito     1.641667  0.375000  0.486667              0\n",
       "Coello     1.593269  0.302564  0.759295              0\n",
       "Stupa      1.567568  0.518919  0.666892              0"
      ]
     },
     "execution_count": 13,
     "metadata": {},
     "output_type": "execute_result"
    }
   ],
   "source": [
    "df_clean1.head()"
   ]
  },
  {
   "cell_type": "code",
   "execution_count": null,
   "id": "793b08db",
   "metadata": {},
   "outputs": [],
   "source": []
  },
  {
   "cell_type": "code",
   "execution_count": 14,
   "id": "6dbd8b99",
   "metadata": {},
   "outputs": [
    {
     "data": {
      "image/png": "[encoded data removed]",
      "text/plain": [
       "<Figure size 1200x500 with 2 Axes>"
      ]
     },
     "metadata": {},
     "output_type": "display_data"
    }
   ],
   "source": [
    "def g_bar(df):\n",
    "    # Crea el gráfico scatter con nombres\n",
    "    df= df.sort_values(\"cluster_label\", ascending=False)\n",
    "    \n",
    "    fig, ax = plt.subplots(figsize=(12,5))\n",
    "    fig.set_facecolor(\"#d1d1e0\")\n",
    "    name1 = \"pts x game\"\n",
    "    name2 = \"NF\"\n",
    "    name3 = \"Rem\"\n",
    "    \n",
    "    width = 0.2\n",
    "    index = np.arange(3)\n",
    "    \n",
    "    \n",
    "\n",
    "    verde_lindo= \"#33cc33\"\n",
    "    ax.patch.set_facecolor(\"#d1d1e0\")\n",
    "    #sns.barplot(x= df.index, y=df[\"rem\"], hue=df[\"cluster_label\"])\n",
    "    # Define una paleta de colores personalizada\n",
    "    colores = [celeste, verde_lindo, \"red\"]\n",
    "\n",
    "    # Asigna colores a las barras en función de los valores de \"cluster_label\"\n",
    "    colores_barras = [colores[label] for label in df[\"cluster_label\"]]\n",
    "    ax.bar(df.index, df[\"pxg\"], color=colores_barras)\n",
    "    ax.scatter(df.index, df[\"rem\"], color =\"black\", s=15)\n",
    "    plt.xticks(rotation=90)\n",
    "    ax.set_ylabel(\"Puntos por game y remates\", color = \"black\")\n",
    "    \n",
    "    #compartir eje x \n",
    "    ax2 = ax.twinx()\n",
    "    ax2.scatter(df.index, df[\"nfxg\"], color =\"white\",s=15) \n",
    "    ax2.set_ylabel(\"NF por game\", color = \"white\", fontsize=12)\n",
    "\n",
    "    #cambiar colores\n",
    "    ax.tick_params(axis=\"y\", colors=\"black\")\n",
    "    ax2.tick_params(axis=\"y\", colors=\"black\")\n",
    "    ax.tick_params(axis=\"x\", colors=\"black\")\n",
    "   \n",
    "    \n",
    "    plt.title(\"Clusterización de los jugadores\", color=\"black\")\n",
    "    ax.xaxis.grid(False)  # Desactivar las líneas de la cuadrícula en el eje x\n",
    "    ax.yaxis.grid(False)\n",
    "    ax.grid(False)\n",
    "    ax2.grid(False)\n",
    "    ax.text(0.1, 1.85, \"Remates - \", color=\"black\", weight='bold', ha='center')\n",
    "    ax.text(2.8, 1.85, \"NF\", color=\"white\", weight='bold', ha='center')\n",
    "    # Mostrar el gráfico\n",
    "    plt.tight_layout()\n",
    "    plt.show()\n",
    "g_bar(df_clean1)"
   ]
  },
  {
   "cell_type": "raw",
   "id": "be7a7a1a",
   "metadata": {},
   "source": [
    "En el grafico de arriba se observan los 3 clusters que agrupan a los jugadores segun sus estadisticas por game que juegan, siendo las barras los puntos que hacen, en puntos grises los errores no forzados y en puntos negros los remates que realizan.\n",
    "\n",
    "Descripcion de clusters:\n",
    "\n",
    "Cluster 1, rojo: jugadores que realizan menos remates que la media es el rasgo principal. Tambien suelen cometer mas errorez no forzados que la media, y la cantidad de puntos es variada, pero suelen hacer entre la media y menos\n",
    "\n",
    "Cluster 2, verde: son jugadores hibridos, presentan valores intermedios entre el cluster 1 y 2\n",
    "\n",
    "Cluster 3, azul: jugadores que realizan mas puntos que la media y mas remates. Errores no forzados es variado"
   ]
  },
  {
   "cell_type": "markdown",
   "id": "5a4d0f28",
   "metadata": {},
   "source": []
  },
  {
   "cell_type": "markdown",
   "id": "c2d9462a",
   "metadata": {},
   "source": [
    "Evaluacion de silhouette"
   ]
  },
  {
   "cell_type": "code",
   "execution_count": 15,
   "id": "ad2ae886",
   "metadata": {},
   "outputs": [
    {
     "data": {
      "text/html": [
       "<div>\n",
       "<style scoped>\n",
       "    .dataframe tbody tr th:only-of-type {\n",
       "        vertical-align: middle;\n",
       "    }\n",
       "\n",
       "    .dataframe tbody tr th {\n",
       "        vertical-align: top;\n",
       "    }\n",
       "\n",
       "    .dataframe thead th {\n",
       "        text-align: right;\n",
       "    }\n",
       "</style>\n",
       "<table border=\"1\" class=\"dataframe\">\n",
       "  <thead>\n",
       "    <tr style=\"text-align: right;\">\n",
       "      <th></th>\n",
       "      <th>pxg</th>\n",
       "      <th>nfxg</th>\n",
       "      <th>rem</th>\n",
       "      <th>cluster_label</th>\n",
       "    </tr>\n",
       "    <tr>\n",
       "      <th>name</th>\n",
       "      <th></th>\n",
       "      <th></th>\n",
       "      <th></th>\n",
       "      <th></th>\n",
       "    </tr>\n",
       "  </thead>\n",
       "  <tbody>\n",
       "    <tr>\n",
       "      <th>Dalbianco</th>\n",
       "      <td>1.700000</td>\n",
       "      <td>0.346970</td>\n",
       "      <td>0.709848</td>\n",
       "      <td>0</td>\n",
       "    </tr>\n",
       "    <tr>\n",
       "      <th>Paquito</th>\n",
       "      <td>1.699123</td>\n",
       "      <td>0.458772</td>\n",
       "      <td>0.664912</td>\n",
       "      <td>0</td>\n",
       "    </tr>\n",
       "  </tbody>\n",
       "</table>\n",
       "</div>"
      ],
      "text/plain": [
       "                pxg      nfxg       rem  cluster_label\n",
       "name                                                  \n",
       "Dalbianco  1.700000  0.346970  0.709848              0\n",
       "Paquito    1.699123  0.458772  0.664912              0"
      ]
     },
     "execution_count": 15,
     "metadata": {},
     "output_type": "execute_result"
    }
   ],
   "source": [
    "df_clean1.head(2)"
   ]
  },
  {
   "cell_type": "code",
   "execution_count": 16,
   "id": "fc227bd6",
   "metadata": {},
   "outputs": [
    {
     "name": "stderr",
     "output_type": "stream",
     "text": [
      "C:\\Users\\UsuarioW10\\anaconda3\\lib\\site-packages\\sklearn\\cluster\\_kmeans.py:870: FutureWarning: The default value of `n_init` will change from 10 to 'auto' in 1.4. Set the value of `n_init` explicitly to suppress the warning\n",
      "  warnings.warn(\n",
      "C:\\Users\\UsuarioW10\\anaconda3\\lib\\site-packages\\sklearn\\cluster\\_kmeans.py:1382: UserWarning: KMeans is known to have a memory leak on Windows with MKL, when there are less chunks than available threads. You can avoid it by setting the environment variable OMP_NUM_THREADS=1.\n",
      "  warnings.warn(\n",
      "C:\\Users\\UsuarioW10\\anaconda3\\lib\\site-packages\\sklearn\\cluster\\_kmeans.py:870: FutureWarning: The default value of `n_init` will change from 10 to 'auto' in 1.4. Set the value of `n_init` explicitly to suppress the warning\n",
      "  warnings.warn(\n",
      "C:\\Users\\UsuarioW10\\anaconda3\\lib\\site-packages\\sklearn\\cluster\\_kmeans.py:1382: UserWarning: KMeans is known to have a memory leak on Windows with MKL, when there are less chunks than available threads. You can avoid it by setting the environment variable OMP_NUM_THREADS=1.\n",
      "  warnings.warn(\n",
      "C:\\Users\\UsuarioW10\\anaconda3\\lib\\site-packages\\sklearn\\cluster\\_kmeans.py:870: FutureWarning: The default value of `n_init` will change from 10 to 'auto' in 1.4. Set the value of `n_init` explicitly to suppress the warning\n",
      "  warnings.warn(\n",
      "C:\\Users\\UsuarioW10\\anaconda3\\lib\\site-packages\\sklearn\\cluster\\_kmeans.py:1382: UserWarning: KMeans is known to have a memory leak on Windows with MKL, when there are less chunks than available threads. You can avoid it by setting the environment variable OMP_NUM_THREADS=1.\n",
      "  warnings.warn(\n",
      "C:\\Users\\UsuarioW10\\anaconda3\\lib\\site-packages\\sklearn\\cluster\\_kmeans.py:870: FutureWarning: The default value of `n_init` will change from 10 to 'auto' in 1.4. Set the value of `n_init` explicitly to suppress the warning\n",
      "  warnings.warn(\n",
      "C:\\Users\\UsuarioW10\\anaconda3\\lib\\site-packages\\sklearn\\cluster\\_kmeans.py:1382: UserWarning: KMeans is known to have a memory leak on Windows with MKL, when there are less chunks than available threads. You can avoid it by setting the environment variable OMP_NUM_THREADS=1.\n",
      "  warnings.warn(\n"
     ]
    },
    {
     "data": {
      "text/plain": [
       "{2: 0.3138424250422109,\n",
       " 3: 0.2944718115819015,\n",
       " 4: 0.2902117550964731,\n",
       " 5: 0.2820956071122483}"
      ]
     },
     "execution_count": 16,
     "metadata": {},
     "output_type": "execute_result"
    }
   ],
   "source": [
    "from sklearn.metrics import silhouette_score, silhouette_samples\n",
    "from sklearn.preprocessing import StandardScaler\n",
    "\n",
    "valor_x = df_clean1.drop(\"cluster_label\", axis=1).values\n",
    "\n",
    "valor_y = df_clean1.cluster_label.values\n",
    "\n",
    "sc = StandardScaler()\n",
    "valor_x_norm =sc.fit_transform(valor_x)\n",
    "slc = {}\n",
    "\n",
    "for k in range(2,6):\n",
    "    kmeans = KMeans(n_clusters=k, max_iter=100, random_state=10).fit(valor_x_norm)\n",
    "    clusters =kmeans.labels_\n",
    "    slc[k] = silhouette_score(valor_x_norm, clusters)\n",
    "    \n",
    "slc\n"
   ]
  },
  {
   "cell_type": "code",
   "execution_count": 17,
   "id": "7020f0c5",
   "metadata": {},
   "outputs": [
    {
     "data": {
      "image/png": "[encoded data removed]",
      "text/plain": [
       "<Figure size 600x300 with 1 Axes>"
      ]
     },
     "metadata": {},
     "output_type": "display_data"
    }
   ],
   "source": [
    "plt.figure(figsize=(6,3))\n",
    "plt.plot(list(slc.keys()), list(slc.values()))\n",
    "plt.xlabel(\"Numero de clusters\")\n",
    "plt.ylabel(\"Score de Silhouette\")\n",
    "plt.show()"
   ]
  },
  {
   "cell_type": "markdown",
   "id": "d0f366c6",
   "metadata": {},
   "source": [
    "Análisis del ranking según clusters"
   ]
  },
  {
   "cell_type": "markdown",
   "id": "569f7d7b",
   "metadata": {},
   "source": [
    "Cluster 1: jugadores que realizan menos remates que la media es el rasgo principal. Tambien, suelen cometer mas errores no forzados que la media, y la cantidad de puntos es variada, pero suelen hacer entre la media y menos.\n",
    "\n",
    "Cluster 2: son jugadores hibridos, presentan valores intermedios entre el cluster 1 y 3.\n",
    "\n",
    "Cluster 3: son jugadores que realizan mas puntos que la media y mas remates. Errores no forzados es variado.\n",
    "\n",
    "Parejas segun ranking:\n",
    "\n",
    "Numero 1: son 2 jugadores del cluster 3.Ambos estan por encima del percentilo 85 en puntos por game, única pareja que tiene a 2 jugadores con tantos puntos, y ademas son la pareja que menos errores no forzados comete. Hacen muchos puntos y otorgan pocos al rival. Como detalle no menor, tambien son los que mas rematan, teniendo una de las efectividades mas altas además. Se encuentran invictos.\n",
    "\n",
    "Numero 2: tiene un jugador del cluster 3 y el otro es un hibrido, cluster 2, que tiene partidos en los cuales se vuelve mas ofensivo y tiene menos errores no forzados que su compañero\n",
    "\n",
    "Numero 3: tiene un jugador del cluster 3 y el otro es un hibrido, cluster 2, que tiene partidos en los cuales se vuelve mas defensivo y es de los que menos errores no forzados tiene en el torneo\n",
    "\n",
    "Numero 4: tiene 2 jugadores hibridos, cluster 2. Uno de ellos el que mas puntos hace por game en el cluster 2 y con pocos errores no forzados. En cambio, su pareja, tiene rendimientos mas variado, sobretodo en lo que respecta a errores no forzados.\n",
    "\n",
    "Numero 5: tiene un jugador del cluster 3, siendo el que mas puntos hace en el torneo, y a un jugador del cluster 1, quien hace pocos puntos (los termina haciendo su compañero) y comete muy pocos errores no forzados\n",
    "\n",
    "Esto denota que no hay una formula única en el armado de parejas con respecto a los roles de cada jugador"
   ]
  },
  {
   "cell_type": "markdown",
   "id": "11857b43",
   "metadata": {},
   "source": [
    "En cuanto a las combinaciones con pocas probabilidades de exito: es una tentación juntar 2 jugadores que hagan muchos puntos por game, sin embargo, estos jugadores suelen estar por encima del percentilo 50 en errores no forzados, y juntar a jugadores que \"compitan\" por hacer puntos y se \"hundan\" por los errores no forzados no ha tenido buenos resultados; excepto los actuales numero 1, pero ellos comenten muy pocos errores no forzados, ambos"
   ]
  },
  {
   "cell_type": "markdown",
   "id": "757bb076",
   "metadata": {},
   "source": [
    "Numero 1: son 2 jugadores del cluster 3.Ambos estan por encima del percentilo 85 en puntos por game, única pareja que tiene a 2 jugadores con tantos puntos, y ademas son la pareja que menos errores no forzados comete. Hacen muchos puntos y otorgan pocos al rival. Como detalle no menor, tambien son los que mas rematan, teniendo una de las efectividades mas altas además. Se encuentran invictos."
   ]
  },
  {
   "cell_type": "code",
   "execution_count": 42,
   "id": "81084dc3",
   "metadata": {},
   "outputs": [
    {
     "data": {
      "text/html": [
       "<div>\n",
       "<style scoped>\n",
       "    .dataframe tbody tr th:only-of-type {\n",
       "        vertical-align: middle;\n",
       "    }\n",
       "\n",
       "    .dataframe tbody tr th {\n",
       "        vertical-align: top;\n",
       "    }\n",
       "\n",
       "    .dataframe thead th {\n",
       "        text-align: right;\n",
       "    }\n",
       "</style>\n",
       "<table border=\"1\" class=\"dataframe\">\n",
       "  <thead>\n",
       "    <tr style=\"text-align: right;\">\n",
       "      <th></th>\n",
       "      <th>pxg</th>\n",
       "      <th>nfxg</th>\n",
       "      <th>rem</th>\n",
       "      <th>cluster_label</th>\n",
       "    </tr>\n",
       "    <tr>\n",
       "      <th>name</th>\n",
       "      <th></th>\n",
       "      <th></th>\n",
       "      <th></th>\n",
       "      <th></th>\n",
       "    </tr>\n",
       "  </thead>\n",
       "  <tbody>\n",
       "    <tr>\n",
       "      <th>Dalbianco</th>\n",
       "      <td>1.700000</td>\n",
       "      <td>0.346970</td>\n",
       "      <td>0.709848</td>\n",
       "      <td>0</td>\n",
       "    </tr>\n",
       "    <tr>\n",
       "      <th>Paquito</th>\n",
       "      <td>1.699123</td>\n",
       "      <td>0.458772</td>\n",
       "      <td>0.664912</td>\n",
       "      <td>0</td>\n",
       "    </tr>\n",
       "  </tbody>\n",
       "</table>\n",
       "</div>"
      ],
      "text/plain": [
       "                pxg      nfxg       rem  cluster_label\n",
       "name                                                  \n",
       "Dalbianco  1.700000  0.346970  0.709848              0\n",
       "Paquito    1.699123  0.458772  0.664912              0"
      ]
     },
     "execution_count": 42,
     "metadata": {},
     "output_type": "execute_result"
    }
   ],
   "source": [
    "def jug_valor(df,name, name2=0):\n",
    "        \n",
    "    pxg= df.loc[name, \"pxg\"]\n",
    "    nfxg= df.loc[name, \"nfxg\"]\n",
    "    rem= df.loc[name, \"rem\"]\n",
    "        \n",
    "    if name2 != 0:\n",
    "        pxg2= df.loc[name2, \"pxg\"]\n",
    "        nfxg2= df.loc[name2, \"nfxg\"]\n",
    "        rem2= df.loc[name2, \"rem\"]\n",
    "        \n",
    "        pxg = pxg + pxg2\n",
    "        nfxg =nfxg + nfxg2\n",
    "        rem = rem + rem2\n",
    "            \n",
    "    \n",
    "    return round(pxg,2), round(nfxg,2),round(rem,2)\n",
    "df_clean1.head(2)\n"
   ]
  },
  {
   "cell_type": "code",
   "execution_count": 54,
   "id": "4b9e9639",
   "metadata": {},
   "outputs": [
    {
     "data": {
      "text/html": [
       "<div>\n",
       "<style scoped>\n",
       "    .dataframe tbody tr th:only-of-type {\n",
       "        vertical-align: middle;\n",
       "    }\n",
       "\n",
       "    .dataframe tbody tr th {\n",
       "        vertical-align: top;\n",
       "    }\n",
       "\n",
       "    .dataframe thead th {\n",
       "        text-align: right;\n",
       "    }\n",
       "</style>\n",
       "<table border=\"1\" class=\"dataframe\">\n",
       "  <thead>\n",
       "    <tr style=\"text-align: right;\">\n",
       "      <th></th>\n",
       "      <th>Tapia</th>\n",
       "      <th>Coello</th>\n",
       "      <th>Equipo</th>\n",
       "    </tr>\n",
       "  </thead>\n",
       "  <tbody>\n",
       "    <tr>\n",
       "      <th>Puntos por game</th>\n",
       "      <td>1.54</td>\n",
       "      <td>1.59</td>\n",
       "      <td>3.14</td>\n",
       "    </tr>\n",
       "    <tr>\n",
       "      <th>No forzados por game</th>\n",
       "      <td>0.33</td>\n",
       "      <td>0.30</td>\n",
       "      <td>0.63</td>\n",
       "    </tr>\n",
       "    <tr>\n",
       "      <th>Remates</th>\n",
       "      <td>0.63</td>\n",
       "      <td>0.76</td>\n",
       "      <td>1.39</td>\n",
       "    </tr>\n",
       "  </tbody>\n",
       "</table>\n",
       "</div>"
      ],
      "text/plain": [
       "                      Tapia  Coello  Equipo\n",
       "Puntos por game        1.54    1.59    3.14\n",
       "No forzados por game   0.33    0.30    0.63\n",
       "Remates                0.63    0.76    1.39"
      ]
     },
     "execution_count": 54,
     "metadata": {},
     "output_type": "execute_result"
    }
   ],
   "source": [
    "tapia_pxg, tapia_nfxg, tapia_rem = jug_valor(df_clean1,\"Tapia\")\n",
    "ltapia = [tapia_pxg, tapia_nfxg, tapia_rem]\n",
    "\n",
    "coello_pxg, coello_nfxg, coello_rem =jug_valor(df_clean1,\"Coello\")\n",
    "lcoello = [coello_pxg, coello_nfxg, coello_rem]\n",
    "\n",
    "tap_coe_pxg, tap_coe_nfxg, tap_coe_rem = jug_valor(df_clean1,\"Tapia\", \"Coello\")\n",
    "ltap_coe = [tap_coe_pxg, tap_coe_nfxg, tap_coe_rem] \n",
    "\n",
    "df_n1 = pd.DataFrame({\"Puntos por game\":[ltapia[0], lcoello[0], ltap_coe[0]],\n",
    "                           \"No forzados por game\":[ltapia[1], lcoello[1], ltap_coe[1]],\n",
    "                           \"Remates\": [ltapia[2], lcoello[2], ltap_coe[2]]}, \n",
    "                          index= [\"Tapia\", \"Coello\",\"Equipo\"]).T\n",
    "\n",
    "#f_n1[\"percentilo \"]\n",
    "#df_n1 =df_n1.T\n",
    "\n",
    "df_n1\n",
    "                          \n",
    "\n",
    "                           "
   ]
  },
  {
   "cell_type": "markdown",
   "id": "9cb57de1",
   "metadata": {},
   "source": [
    "\n"
   ]
  },
  {
   "cell_type": "markdown",
   "id": "a4baa7f0",
   "metadata": {},
   "source": [
    "Análisis teniendo en cuenta quién gana o pierde o empata (tiebreak) el set"
   ]
  },
  {
   "cell_type": "code",
   "execution_count": 18,
   "id": "62a6acab",
   "metadata": {},
   "outputs": [],
   "source": [
    "#dataset con los datos por equipo con resultado - df_gop (gano o perdio)\n",
    "df_gop = pd.read_excel(\"_ml1_eqxset.xlsx\")"
   ]
  },
  {
   "cell_type": "code",
   "execution_count": 19,
   "id": "ded1f43f",
   "metadata": {
    "scrolled": true
   },
   "outputs": [
    {
     "data": {
      "text/html": [
       "<div>\n",
       "<style scoped>\n",
       "    .dataframe tbody tr th:only-of-type {\n",
       "        vertical-align: middle;\n",
       "    }\n",
       "\n",
       "    .dataframe tbody tr th {\n",
       "        vertical-align: top;\n",
       "    }\n",
       "\n",
       "    .dataframe thead th {\n",
       "        text-align: right;\n",
       "    }\n",
       "</style>\n",
       "<table border=\"1\" class=\"dataframe\">\n",
       "  <thead>\n",
       "    <tr style=\"text-align: right;\">\n",
       "      <th></th>\n",
       "      <th>nombre</th>\n",
       "      <th>nf</th>\n",
       "      <th>w</th>\n",
       "      <th>sm</th>\n",
       "      <th>ns</th>\n",
       "      <th>prec</th>\n",
       "      <th>csm</th>\n",
       "      <th>fondo</th>\n",
       "      <th>m3</th>\n",
       "      <th>m5</th>\n",
       "      <th>...</th>\n",
       "      <th>sk_prim</th>\n",
       "      <th>games jug</th>\n",
       "      <th>sk_oro</th>\n",
       "      <th>resto_oro</th>\n",
       "      <th>op quiebre</th>\n",
       "      <th>circuito</th>\n",
       "      <th>torneo</th>\n",
       "      <th>fase</th>\n",
       "      <th>gano_set</th>\n",
       "      <th>nfr</th>\n",
       "    </tr>\n",
       "  </thead>\n",
       "  <tbody>\n",
       "    <tr>\n",
       "      <th>0</th>\n",
       "      <td>Tap-Coe</td>\n",
       "      <td>2</td>\n",
       "      <td>11</td>\n",
       "      <td>3</td>\n",
       "      <td>4</td>\n",
       "      <td>43</td>\n",
       "      <td>1</td>\n",
       "      <td>4</td>\n",
       "      <td>9</td>\n",
       "      <td>11</td>\n",
       "      <td>...</td>\n",
       "      <td>s</td>\n",
       "      <td>10</td>\n",
       "      <td>100.0</td>\n",
       "      <td>NaN</td>\n",
       "      <td>100.0</td>\n",
       "      <td>WPT</td>\n",
       "      <td>Vigo</td>\n",
       "      <td>Final</td>\n",
       "      <td>g</td>\n",
       "      <td>NaN</td>\n",
       "    </tr>\n",
       "    <tr>\n",
       "      <th>1</th>\n",
       "      <td>Gal-Leb</td>\n",
       "      <td>10</td>\n",
       "      <td>16</td>\n",
       "      <td>6</td>\n",
       "      <td>1</td>\n",
       "      <td>86</td>\n",
       "      <td>3</td>\n",
       "      <td>0</td>\n",
       "      <td>4</td>\n",
       "      <td>1</td>\n",
       "      <td>...</td>\n",
       "      <td>n</td>\n",
       "      <td>10</td>\n",
       "      <td>NaN</td>\n",
       "      <td>0.0</td>\n",
       "      <td>0.0</td>\n",
       "      <td>WPT</td>\n",
       "      <td>Vigo</td>\n",
       "      <td>Final</td>\n",
       "      <td>p</td>\n",
       "      <td>NaN</td>\n",
       "    </tr>\n",
       "    <tr>\n",
       "      <th>2</th>\n",
       "      <td>Tap-Coe</td>\n",
       "      <td>9</td>\n",
       "      <td>22</td>\n",
       "      <td>12</td>\n",
       "      <td>5</td>\n",
       "      <td>71</td>\n",
       "      <td>2</td>\n",
       "      <td>1</td>\n",
       "      <td>2</td>\n",
       "      <td>11</td>\n",
       "      <td>...</td>\n",
       "      <td>n</td>\n",
       "      <td>12</td>\n",
       "      <td>100.0</td>\n",
       "      <td>33.0</td>\n",
       "      <td>25.0</td>\n",
       "      <td>WPT</td>\n",
       "      <td>Vigo</td>\n",
       "      <td>Final</td>\n",
       "      <td>tb</td>\n",
       "      <td>NaN</td>\n",
       "    </tr>\n",
       "    <tr>\n",
       "      <th>3</th>\n",
       "      <td>Gal-Leb</td>\n",
       "      <td>10</td>\n",
       "      <td>21</td>\n",
       "      <td>9</td>\n",
       "      <td>4</td>\n",
       "      <td>69</td>\n",
       "      <td>2</td>\n",
       "      <td>2</td>\n",
       "      <td>8</td>\n",
       "      <td>9</td>\n",
       "      <td>...</td>\n",
       "      <td>s</td>\n",
       "      <td>12</td>\n",
       "      <td>67.0</td>\n",
       "      <td>0.0</td>\n",
       "      <td>50.0</td>\n",
       "      <td>WPT</td>\n",
       "      <td>Vigo</td>\n",
       "      <td>Final</td>\n",
       "      <td>tb</td>\n",
       "      <td>NaN</td>\n",
       "    </tr>\n",
       "    <tr>\n",
       "      <th>4</th>\n",
       "      <td>Tap-Coe</td>\n",
       "      <td>4</td>\n",
       "      <td>25</td>\n",
       "      <td>10</td>\n",
       "      <td>10</td>\n",
       "      <td>50</td>\n",
       "      <td>4</td>\n",
       "      <td>1</td>\n",
       "      <td>2</td>\n",
       "      <td>10</td>\n",
       "      <td>...</td>\n",
       "      <td>s</td>\n",
       "      <td>12</td>\n",
       "      <td>67.0</td>\n",
       "      <td>0.0</td>\n",
       "      <td>38.0</td>\n",
       "      <td>WPT</td>\n",
       "      <td>Vigo</td>\n",
       "      <td>Final</td>\n",
       "      <td>tb</td>\n",
       "      <td>NaN</td>\n",
       "    </tr>\n",
       "    <tr>\n",
       "      <th>...</th>\n",
       "      <td>...</td>\n",
       "      <td>...</td>\n",
       "      <td>...</td>\n",
       "      <td>...</td>\n",
       "      <td>...</td>\n",
       "      <td>...</td>\n",
       "      <td>...</td>\n",
       "      <td>...</td>\n",
       "      <td>...</td>\n",
       "      <td>...</td>\n",
       "      <td>...</td>\n",
       "      <td>...</td>\n",
       "      <td>...</td>\n",
       "      <td>...</td>\n",
       "      <td>...</td>\n",
       "      <td>...</td>\n",
       "      <td>...</td>\n",
       "      <td>...</td>\n",
       "      <td>...</td>\n",
       "      <td>...</td>\n",
       "      <td>...</td>\n",
       "    </tr>\n",
       "    <tr>\n",
       "      <th>171</th>\n",
       "      <td>Paquito-Chingotto</td>\n",
       "      <td>9</td>\n",
       "      <td>15</td>\n",
       "      <td>3</td>\n",
       "      <td>3</td>\n",
       "      <td>50</td>\n",
       "      <td>3</td>\n",
       "      <td>0</td>\n",
       "      <td>5</td>\n",
       "      <td>7</td>\n",
       "      <td>...</td>\n",
       "      <td>n</td>\n",
       "      <td>10</td>\n",
       "      <td>33.0</td>\n",
       "      <td>0.0</td>\n",
       "      <td>33.0</td>\n",
       "      <td>WPT</td>\n",
       "      <td>Vigo</td>\n",
       "      <td>Cuartos</td>\n",
       "      <td>g</td>\n",
       "      <td>NaN</td>\n",
       "    </tr>\n",
       "    <tr>\n",
       "      <th>172</th>\n",
       "      <td>Momo-Sanyo</td>\n",
       "      <td>7</td>\n",
       "      <td>9</td>\n",
       "      <td>4</td>\n",
       "      <td>4</td>\n",
       "      <td>50</td>\n",
       "      <td>0</td>\n",
       "      <td>1</td>\n",
       "      <td>2</td>\n",
       "      <td>1</td>\n",
       "      <td>...</td>\n",
       "      <td>s</td>\n",
       "      <td>6</td>\n",
       "      <td>67.0</td>\n",
       "      <td>0.0</td>\n",
       "      <td>0.0</td>\n",
       "      <td>WPT</td>\n",
       "      <td>Vigo</td>\n",
       "      <td>Cuartos</td>\n",
       "      <td>tb</td>\n",
       "      <td>NaN</td>\n",
       "    </tr>\n",
       "    <tr>\n",
       "      <th>173</th>\n",
       "      <td>Paquito-Chingotto</td>\n",
       "      <td>4</td>\n",
       "      <td>12</td>\n",
       "      <td>4</td>\n",
       "      <td>2</td>\n",
       "      <td>67</td>\n",
       "      <td>2</td>\n",
       "      <td>1</td>\n",
       "      <td>4</td>\n",
       "      <td>3</td>\n",
       "      <td>...</td>\n",
       "      <td>n</td>\n",
       "      <td>6</td>\n",
       "      <td>0.0</td>\n",
       "      <td>33.0</td>\n",
       "      <td>17.0</td>\n",
       "      <td>WPT</td>\n",
       "      <td>Vigo</td>\n",
       "      <td>Cuartos</td>\n",
       "      <td>tb</td>\n",
       "      <td>NaN</td>\n",
       "    </tr>\n",
       "    <tr>\n",
       "      <th>174</th>\n",
       "      <td>Momo-Sanyo</td>\n",
       "      <td>7</td>\n",
       "      <td>10</td>\n",
       "      <td>7</td>\n",
       "      <td>3</td>\n",
       "      <td>70</td>\n",
       "      <td>0</td>\n",
       "      <td>0</td>\n",
       "      <td>5</td>\n",
       "      <td>3</td>\n",
       "      <td>...</td>\n",
       "      <td>n</td>\n",
       "      <td>8</td>\n",
       "      <td>0.0</td>\n",
       "      <td>100.0</td>\n",
       "      <td>75.0</td>\n",
       "      <td>WPT</td>\n",
       "      <td>Vigo</td>\n",
       "      <td>Cuartos</td>\n",
       "      <td>tb</td>\n",
       "      <td>NaN</td>\n",
       "    </tr>\n",
       "    <tr>\n",
       "      <th>175</th>\n",
       "      <td>Paquito-Chingotto</td>\n",
       "      <td>8</td>\n",
       "      <td>10</td>\n",
       "      <td>2</td>\n",
       "      <td>0</td>\n",
       "      <td>100</td>\n",
       "      <td>1</td>\n",
       "      <td>0</td>\n",
       "      <td>5</td>\n",
       "      <td>2</td>\n",
       "      <td>...</td>\n",
       "      <td>s</td>\n",
       "      <td>8</td>\n",
       "      <td>0.0</td>\n",
       "      <td>0.0</td>\n",
       "      <td>0.0</td>\n",
       "      <td>WPT</td>\n",
       "      <td>Vigo</td>\n",
       "      <td>Cuartos</td>\n",
       "      <td>tb</td>\n",
       "      <td>NaN</td>\n",
       "    </tr>\n",
       "  </tbody>\n",
       "</table>\n",
       "<p>175 rows × 27 columns</p>\n",
       "</div>"
      ],
      "text/plain": [
       "                nombre  nf   w  sm  ns  prec  csm  fondo  m3  m5  ...  \\\n",
       "0              Tap-Coe   2  11   3   4    43    1      4   9  11  ...   \n",
       "1              Gal-Leb  10  16   6   1    86    3      0   4   1  ...   \n",
       "2              Tap-Coe   9  22  12   5    71    2      1   2  11  ...   \n",
       "3              Gal-Leb  10  21   9   4    69    2      2   8   9  ...   \n",
       "4              Tap-Coe   4  25  10  10    50    4      1   2  10  ...   \n",
       "..                 ...  ..  ..  ..  ..   ...  ...    ...  ..  ..  ...   \n",
       "171  Paquito-Chingotto   9  15   3   3    50    3      0   5   7  ...   \n",
       "172         Momo-Sanyo   7   9   4   4    50    0      1   2   1  ...   \n",
       "173  Paquito-Chingotto   4  12   4   2    67    2      1   4   3  ...   \n",
       "174         Momo-Sanyo   7  10   7   3    70    0      0   5   3  ...   \n",
       "175  Paquito-Chingotto   8  10   2   0   100    1      0   5   2  ...   \n",
       "\n",
       "     sk_prim  games jug  sk_oro  resto_oro  op quiebre  circuito torneo  \\\n",
       "0          s         10   100.0        NaN       100.0       WPT   Vigo   \n",
       "1          n         10     NaN        0.0         0.0       WPT   Vigo   \n",
       "2          n         12   100.0       33.0        25.0       WPT   Vigo   \n",
       "3          s         12    67.0        0.0        50.0       WPT   Vigo   \n",
       "4          s         12    67.0        0.0        38.0       WPT   Vigo   \n",
       "..       ...        ...     ...        ...         ...       ...    ...   \n",
       "171        n         10    33.0        0.0        33.0       WPT   Vigo   \n",
       "172        s          6    67.0        0.0         0.0       WPT   Vigo   \n",
       "173        n          6     0.0       33.0        17.0       WPT   Vigo   \n",
       "174        n          8     0.0      100.0        75.0       WPT   Vigo   \n",
       "175        s          8     0.0        0.0         0.0       WPT   Vigo   \n",
       "\n",
       "        fase  gano_set  nfr  \n",
       "0      Final         g  NaN  \n",
       "1      Final         p  NaN  \n",
       "2      Final        tb  NaN  \n",
       "3      Final        tb  NaN  \n",
       "4      Final        tb  NaN  \n",
       "..       ...       ...  ...  \n",
       "171  Cuartos         g  NaN  \n",
       "172  Cuartos        tb  NaN  \n",
       "173  Cuartos        tb  NaN  \n",
       "174  Cuartos        tb  NaN  \n",
       "175  Cuartos        tb  NaN  \n",
       "\n",
       "[175 rows x 27 columns]"
      ]
     },
     "execution_count": 19,
     "metadata": {},
     "output_type": "execute_result"
    }
   ],
   "source": [
    "#quitar outlier de sd en bruselas 3er set\n",
    "df_gop.drop(49, axis=0, inplace=True)\n",
    "df_gop"
   ]
  },
  {
   "cell_type": "code",
   "execution_count": 20,
   "id": "a7f131b5",
   "metadata": {},
   "outputs": [
    {
     "data": {
      "text/html": [
       "<div>\n",
       "<style scoped>\n",
       "    .dataframe tbody tr th:only-of-type {\n",
       "        vertical-align: middle;\n",
       "    }\n",
       "\n",
       "    .dataframe tbody tr th {\n",
       "        vertical-align: top;\n",
       "    }\n",
       "\n",
       "    .dataframe thead th {\n",
       "        text-align: right;\n",
       "    }\n",
       "</style>\n",
       "<table border=\"1\" class=\"dataframe\">\n",
       "  <thead>\n",
       "    <tr style=\"text-align: right;\">\n",
       "      <th></th>\n",
       "      <th>nf</th>\n",
       "      <th>pto_tot</th>\n",
       "      <th>tot_snf</th>\n",
       "      <th>result</th>\n",
       "    </tr>\n",
       "    <tr>\n",
       "      <th>nombre</th>\n",
       "      <th></th>\n",
       "      <th></th>\n",
       "      <th></th>\n",
       "      <th></th>\n",
       "    </tr>\n",
       "  </thead>\n",
       "  <tbody>\n",
       "    <tr>\n",
       "      <th>Tap-Coe</th>\n",
       "      <td>0.200</td>\n",
       "      <td>2.900</td>\n",
       "      <td>1.900</td>\n",
       "      <td>1</td>\n",
       "    </tr>\n",
       "    <tr>\n",
       "      <th>Tap-Coe</th>\n",
       "      <td>0.556</td>\n",
       "      <td>3.444</td>\n",
       "      <td>2.222</td>\n",
       "      <td>1</td>\n",
       "    </tr>\n",
       "    <tr>\n",
       "      <th>Tap-Coe</th>\n",
       "      <td>0.600</td>\n",
       "      <td>3.200</td>\n",
       "      <td>1.800</td>\n",
       "      <td>1</td>\n",
       "    </tr>\n",
       "    <tr>\n",
       "      <th>Momo-Sanyo</th>\n",
       "      <td>0.900</td>\n",
       "      <td>2.800</td>\n",
       "      <td>1.900</td>\n",
       "      <td>1</td>\n",
       "    </tr>\n",
       "    <tr>\n",
       "      <th>Tap-Coe</th>\n",
       "      <td>0.900</td>\n",
       "      <td>2.800</td>\n",
       "      <td>1.900</td>\n",
       "      <td>1</td>\n",
       "    </tr>\n",
       "    <tr>\n",
       "      <th>...</th>\n",
       "      <td>...</td>\n",
       "      <td>...</td>\n",
       "      <td>...</td>\n",
       "      <td>...</td>\n",
       "    </tr>\n",
       "    <tr>\n",
       "      <th>Leal-Bel</th>\n",
       "      <td>0.900</td>\n",
       "      <td>2.700</td>\n",
       "      <td>1.900</td>\n",
       "      <td>0</td>\n",
       "    </tr>\n",
       "    <tr>\n",
       "      <th>Leal-Bel</th>\n",
       "      <td>1.083</td>\n",
       "      <td>2.833</td>\n",
       "      <td>1.917</td>\n",
       "      <td>0</td>\n",
       "    </tr>\n",
       "    <tr>\n",
       "      <th>Galan-Sanz</th>\n",
       "      <td>1.500</td>\n",
       "      <td>1.625</td>\n",
       "      <td>0.875</td>\n",
       "      <td>0</td>\n",
       "    </tr>\n",
       "    <tr>\n",
       "      <th>Galan-Sanz</th>\n",
       "      <td>1.714</td>\n",
       "      <td>1.857</td>\n",
       "      <td>1.000</td>\n",
       "      <td>0</td>\n",
       "    </tr>\n",
       "    <tr>\n",
       "      <th>Momo-Sanyo</th>\n",
       "      <td>0.900</td>\n",
       "      <td>2.800</td>\n",
       "      <td>1.900</td>\n",
       "      <td>0</td>\n",
       "    </tr>\n",
       "  </tbody>\n",
       "</table>\n",
       "<p>145 rows × 4 columns</p>\n",
       "</div>"
      ],
      "text/plain": [
       "               nf  pto_tot  tot_snf  result\n",
       "nombre                                     \n",
       "Tap-Coe     0.200    2.900    1.900       1\n",
       "Tap-Coe     0.556    3.444    2.222       1\n",
       "Tap-Coe     0.600    3.200    1.800       1\n",
       "Momo-Sanyo  0.900    2.800    1.900       1\n",
       "Tap-Coe     0.900    2.800    1.900       1\n",
       "...           ...      ...      ...     ...\n",
       "Leal-Bel    0.900    2.700    1.900       0\n",
       "Leal-Bel    1.083    2.833    1.917       0\n",
       "Galan-Sanz  1.500    1.625    0.875       0\n",
       "Galan-Sanz  1.714    1.857    1.000       0\n",
       "Momo-Sanyo  0.900    2.800    1.900       0\n",
       "\n",
       "[145 rows x 4 columns]"
      ]
     },
     "execution_count": 20,
     "metadata": {},
     "output_type": "execute_result"
    }
   ],
   "source": [
    "#cambiar index \n",
    "df_gop.set_index('nombre',inplace=True)\n",
    "\n",
    "#df con games ganados\n",
    "df_gano = df_gop[df_gop[\"gano_set\"]==\"g\"]\n",
    "all_cols = ['nf', 'w', 'sm', 'ns', 'csm', 'fondo', 'm3', 'm5',\n",
    "       'm7', 'pto_tot', 'tot_snf', 'ed','games jug', \"set\"]\n",
    "\n",
    "#res_col = [\"nf\", \"pto_tot\", \"tot_snf\",\"sm\",\"ns\", \"games jug\"]\n",
    "res_col = [\"nf\", \"pto_tot\", \"tot_snf\", \"games jug\"]\n",
    "\n",
    "\n",
    "df_gano = df_gano[res_col]\n",
    "\n",
    "df_ganoxgame = round(df_gano.div(df_gano[\"games jug\"], axis=0),3)\n",
    "df_ganoxgame[\"result\"] =\"g\"\n",
    "\n",
    "\n",
    "#df con games perdidos\n",
    "df_perdio = df_gop[df_gop[\"gano_set\"]==\"p\"]\n",
    "df_perdio = df_perdio[res_col]\n",
    "\n",
    "df_perdioxgame = round(df_perdio.div(df_perdio[\"games jug\"], axis=0),3)\n",
    "df_perdioxgame[\"result\"] =\"p\"\n",
    "\n",
    "#concatenar los df gano y perdio \n",
    "\n",
    "all = pd.concat([df_ganoxgame, df_perdioxgame])\n",
    "all.drop(\"games jug\", axis=1, inplace=True)\n",
    "all[\"result\"] = np.where(all[\"result\"] == \"g\",1,0)\n",
    "all"
   ]
  },
  {
   "cell_type": "code",
   "execution_count": 21,
   "id": "c6990544",
   "metadata": {},
   "outputs": [
    {
     "data": {
      "text/html": [
       "<div>\n",
       "<style scoped>\n",
       "    .dataframe tbody tr th:only-of-type {\n",
       "        vertical-align: middle;\n",
       "    }\n",
       "\n",
       "    .dataframe tbody tr th {\n",
       "        vertical-align: top;\n",
       "    }\n",
       "\n",
       "    .dataframe thead th {\n",
       "        text-align: right;\n",
       "    }\n",
       "</style>\n",
       "<table border=\"1\" class=\"dataframe\">\n",
       "  <thead>\n",
       "    <tr style=\"text-align: right;\">\n",
       "      <th></th>\n",
       "      <th>count</th>\n",
       "      <th>mean</th>\n",
       "      <th>std</th>\n",
       "      <th>min</th>\n",
       "      <th>25%</th>\n",
       "      <th>50%</th>\n",
       "      <th>75%</th>\n",
       "      <th>max</th>\n",
       "    </tr>\n",
       "  </thead>\n",
       "  <tbody>\n",
       "    <tr>\n",
       "      <th>nf</th>\n",
       "      <td>145.0</td>\n",
       "      <td>0.860890</td>\n",
       "      <td>0.336006</td>\n",
       "      <td>0.167</td>\n",
       "      <td>0.625</td>\n",
       "      <td>0.875</td>\n",
       "      <td>1.000</td>\n",
       "      <td>2.167</td>\n",
       "    </tr>\n",
       "    <tr>\n",
       "      <th>pto_tot</th>\n",
       "      <td>145.0</td>\n",
       "      <td>2.762083</td>\n",
       "      <td>0.649431</td>\n",
       "      <td>1.143</td>\n",
       "      <td>2.250</td>\n",
       "      <td>2.833</td>\n",
       "      <td>3.222</td>\n",
       "      <td>4.000</td>\n",
       "    </tr>\n",
       "    <tr>\n",
       "      <th>tot_snf</th>\n",
       "      <td>145.0</td>\n",
       "      <td>1.898966</td>\n",
       "      <td>0.490045</td>\n",
       "      <td>0.571</td>\n",
       "      <td>1.556</td>\n",
       "      <td>1.900</td>\n",
       "      <td>2.286</td>\n",
       "      <td>3.000</td>\n",
       "    </tr>\n",
       "  </tbody>\n",
       "</table>\n",
       "</div>"
      ],
      "text/plain": [
       "         count      mean       std    min    25%    50%    75%    max\n",
       "nf       145.0  0.860890  0.336006  0.167  0.625  0.875  1.000  2.167\n",
       "pto_tot  145.0  2.762083  0.649431  1.143  2.250  2.833  3.222  4.000\n",
       "tot_snf  145.0  1.898966  0.490045  0.571  1.556  1.900  2.286  3.000"
      ]
     },
     "execution_count": 21,
     "metadata": {},
     "output_type": "execute_result"
    }
   ],
   "source": [
    "#analisis univariado\n",
    "univ = all.describe().T.drop([\"result\"])\n",
    "univ"
   ]
  },
  {
   "cell_type": "code",
   "execution_count": 22,
   "id": "092fbbf6",
   "metadata": {},
   "outputs": [
    {
     "data": {
      "image/png": "[encoded data removed]",
      "text/plain": [
       "<Figure size 640x480 with 1 Axes>"
      ]
     },
     "metadata": {},
     "output_type": "display_data"
    },
    {
     "data": {
      "image/png": "[encoded data removed]",
      "text/plain": [
       "<Figure size 640x480 with 1 Axes>"
      ]
     },
     "metadata": {},
     "output_type": "display_data"
    },
    {
     "data": {
      "image/png": "[encoded data removed]",
      "text/plain": [
       "<Figure size 640x480 with 1 Axes>"
      ]
     },
     "metadata": {},
     "output_type": "display_data"
    }
   ],
   "source": [
    "all_hist = all.drop(\"result\", axis=1)\n",
    "l_title = [\"No forzados\", \"Puntos totales\", \"Puntos sin no forzados rivales\"]\n",
    "for i,g in enumerate(all_hist.columns):\n",
    "    sns.set()\n",
    "    plt.hist(all_hist[g])\n",
    "    plt.xlabel(\"Puntos por game\")\n",
    "    plt.title(l_title[i])\n",
    "    plt.show()"
   ]
  },
  {
   "cell_type": "code",
   "execution_count": 23,
   "id": "9352cfff",
   "metadata": {},
   "outputs": [
    {
     "data": {
      "text/html": [
       "<div>\n",
       "<style scoped>\n",
       "    .dataframe tbody tr th:only-of-type {\n",
       "        vertical-align: middle;\n",
       "    }\n",
       "\n",
       "    .dataframe tbody tr th {\n",
       "        vertical-align: top;\n",
       "    }\n",
       "\n",
       "    .dataframe thead th {\n",
       "        text-align: right;\n",
       "    }\n",
       "</style>\n",
       "<table border=\"1\" class=\"dataframe\">\n",
       "  <thead>\n",
       "    <tr style=\"text-align: right;\">\n",
       "      <th></th>\n",
       "      <th>result</th>\n",
       "    </tr>\n",
       "  </thead>\n",
       "  <tbody>\n",
       "    <tr>\n",
       "      <th>nf</th>\n",
       "      <td>-0.522001</td>\n",
       "    </tr>\n",
       "    <tr>\n",
       "      <th>pto_tot</th>\n",
       "      <td>0.789150</td>\n",
       "    </tr>\n",
       "    <tr>\n",
       "      <th>tot_snf</th>\n",
       "      <td>0.694979</td>\n",
       "    </tr>\n",
       "    <tr>\n",
       "      <th>result</th>\n",
       "      <td>1.000000</td>\n",
       "    </tr>\n",
       "  </tbody>\n",
       "</table>\n",
       "</div>"
      ],
      "text/plain": [
       "           result\n",
       "nf      -0.522001\n",
       "pto_tot  0.789150\n",
       "tot_snf  0.694979\n",
       "result   1.000000"
      ]
     },
     "execution_count": 23,
     "metadata": {},
     "output_type": "execute_result"
    }
   ],
   "source": [
    "df_corr = all.corr()\n",
    "df_corr.drop([\"nf\",\"pto_tot\",\"tot_snf\"], axis=1)"
   ]
  },
  {
   "cell_type": "markdown",
   "id": "4a147262",
   "metadata": {},
   "source": [
    "nf: errores no forzados, pto_tot: puntos totales, tot_snf: puntos totales sin contar errores no forzados del rival, result: resultado, 1 es gana, 0 perder,\n",
    "\n",
    "Hay una fuerte correlacion con result,(ganar) y los puntos que hace una pareja y los puntos totales con los puntos sin no forzados porque uno contiene al otro. Si bien se podría eliminar una de las columnas de los puntos, sirve tener las 2 columnas para diferenciar a los jugadores que hacen muchos puntos y tambien muchos errores no forzados de los que hacen muchos puntos y pocos errores no forzados, que son el ideal del padel y que mas sets ganan\n",
    "\n",
    "Mientras que los errores no forzados muestran correlacion inversa con ganar, pero no tan fuerte como la cantidad de puntos hechos, ya que los puntos pueden superar a los errores no forzados y ganar el partido, a pesar de tener ambos valores altos"
   ]
  },
  {
   "cell_type": "code",
   "execution_count": 24,
   "id": "edc3705a",
   "metadata": {},
   "outputs": [
    {
     "data": {
      "image/png": "[encoded data removed]",
      "text/plain": [
       "<Figure size 600x200 with 1 Axes>"
      ]
     },
     "metadata": {},
     "output_type": "display_data"
    }
   ],
   "source": [
    "#errores no forzados \n",
    "plt.figure(figsize=(6, 2))\n",
    "plt.scatter(all[\"nf\"], all[\"result\"], color=\"black\")\n",
    "plt.title(\"No forzados\")\n",
    "plt.yticks([0,1],[\"Perdedor\",\"Ganador\"])\n",
    "plt.xlabel(\"Cantidad por game\")\n",
    "plt.margins(y=0.2)  # Ajusta el margen vertical"
   ]
  },
  {
   "cell_type": "markdown",
   "id": "d5e5346f",
   "metadata": {},
   "source": [
    "Se observa que hacer muy pocos errores no forzados (lo cual no es nada sencillo y suele ocurrrir cuando hay mucha diferencia en el ranking o una pareja en particular que son los numero 1 del ranking) es un buen predictor del triunfo del set.\n",
    "\n",
    "Los errores no forzados tienen una correlacion con el resultado de: -0.522001, siendo que quien haga mas de \n",
    "estos tiene mas probabilidades de perder. Como se aprecia en el grafico, hay un rango de 0.47 a 1.35 puntos \n",
    "en los cuales se puede ganar o perder el set"
   ]
  },
  {
   "cell_type": "code",
   "execution_count": 25,
   "id": "05ce8f90",
   "metadata": {},
   "outputs": [
    {
     "data": {
      "image/png": "[encoded data removed]",
      "text/plain": [
       "<Figure size 600x200 with 1 Axes>"
      ]
     },
     "metadata": {},
     "output_type": "display_data"
    }
   ],
   "source": [
    "#Puntos totales \n",
    "plt.figure(figsize=(6, 2))\n",
    "plt.scatter(all[\"pto_tot\"], all[\"result\"], color=\"black\")\n",
    "plt.title(\"Puntos totales\")\n",
    "plt.yticks([0,1],[\"Perdedor\",\"Ganador\"])\n",
    "plt.xlabel(\"Cantidad por game\")\n",
    "plt.margins(y=0.2)  # Ajusta el margen vertical"
   ]
  },
  {
   "cell_type": "markdown",
   "id": "a57f5d52",
   "metadata": {},
   "source": [
    "En el grafico se puede apreciar a simple vista que los ganadores del set suelen hacer mas puntos por set\n",
    "de promedio. Hay partidos muy parejos en los cuales los perdedores han hecho mas de 2.6 puntos por set. Se puede intuir que para ganar hay que promediar mas de 2.6 puntos por game"
   ]
  },
  {
   "cell_type": "code",
   "execution_count": 26,
   "id": "f9380f11",
   "metadata": {},
   "outputs": [
    {
     "data": {
      "image/png": "[encoded data removed]",
      "text/plain": [
       "<Figure size 600x200 with 1 Axes>"
      ]
     },
     "metadata": {},
     "output_type": "display_data"
    }
   ],
   "source": [
    "#Puntos totales sin errores no forzados del rival \n",
    "plt.figure(figsize=(6, 2))\n",
    "plt.scatter(all[\"tot_snf\"], all[\"result\"], color=\"black\")\n",
    "plt.title(\"Puntos totales sin errores no forzados del rival\")\n",
    "plt.yticks([0,1],[\"Perdedor\",\"Ganador\"])\n",
    "plt.xlabel(\"Cantidad por game\")\n",
    "plt.margins(y=0.2)  # Ajusta el margen vertical"
   ]
  },
  {
   "cell_type": "markdown",
   "id": "62a34718",
   "metadata": {},
   "source": [
    "Teniendo en cuenta que para ganar el set, hay que promediar 2.6 puntos por game como minimo, equipos\n",
    "que promedien mas de 2.4 puntos sin errores no forzados, ganan el partido el 100% de las veces, ya que\n",
    "a los puntos que hacen hay que sumarle los puntos de los errores no forzados del rival"
   ]
  },
  {
   "cell_type": "code",
   "execution_count": null,
   "id": "5fec54e4",
   "metadata": {},
   "outputs": [],
   "source": []
  }
 ],
 "metadata": {
  "kernelspec": {
   "display_name": "Python 3 (ipykernel)",
   "language": "python",
   "name": "python3"
  },
  "language_info": {
   "codemirror_mode": {
    "name": "ipython",
    "version": 3
   },
   "file_extension": ".py",
   "mimetype": "text/x-python",
   "name": "python",
   "nbconvert_exporter": "python",
   "pygments_lexer": "ipython3",
   "version": "3.9.13"
  }
 },
 "nbformat": 4,
 "nbformat_minor": 5
}
