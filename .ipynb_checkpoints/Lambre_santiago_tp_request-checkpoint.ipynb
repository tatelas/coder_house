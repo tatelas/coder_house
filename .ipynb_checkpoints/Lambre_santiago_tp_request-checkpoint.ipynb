{
 "cells": [
  {
   "cell_type": "code",
   "execution_count": 14,
   "id": "8e09a66d",
   "metadata": {},
   "outputs": [],
   "source": [
    "import json\n",
    "import requests\n",
    "import pandas as pd \n",
    "from googleapiclient.discovery import build\n"
   ]
  },
  {
   "cell_type": "code",
   "execution_count": 15,
   "id": "3b014792",
   "metadata": {},
   "outputs": [
    {
     "data": {
      "text/plain": [
       "{'kind': 'youtube#channelListResponse',\n",
       " 'etag': 'sFu5QmSniiikGn-JeRRCxV6CGs4',\n",
       " 'pageInfo': {'totalResults': 1, 'resultsPerPage': 5},\n",
       " 'items': [{'kind': 'youtube#channel',\n",
       "   'etag': 'ER1t1FmMYZJSw1r4kH1vLtw0Jwg',\n",
       "   'id': 'UC9XbAzqINqIMyQ41xujKnaQ',\n",
       "   'statistics': {'viewCount': '160150801',\n",
       "    'subscriberCount': '632000',\n",
       "    'hiddenSubscriberCount': False,\n",
       "    'videoCount': '2947'}}]}"
      ]
     },
     "execution_count": 15,
     "metadata": {},
     "output_type": "execute_result"
    }
   ],
   "source": [
    "\"\"\"credencial API\"\"\"\n",
    "\n",
    "\n",
    "youtube = build('youtube','v3', developerKey=key_api)\n",
    "\n",
    "rd = \"Reydama\"\n",
    "\n",
    "requests = youtube.channels().list(part='statistics', forUsername = rd)\n",
    "\n",
    "response = requests.execute()\n",
    "response"
   ]
  },
  {
   "cell_type": "code",
   "execution_count": 16,
   "id": "7066ca31",
   "metadata": {},
   "outputs": [
    {
     "name": "stdout",
     "output_type": "stream",
     "text": [
      "Que grande es calsem un fuera de series 😮\n",
      "Por que no subes las partidas de Iturrizaga? El único español y parece que lo ignoras con el torneazo que se está marcando\n",
      "Ese Magnus juega más que un gato pequeño\n",
      "Saludos Juanjo desde Ecuador\n",
      "Buenas Juanjo yo y mi padre seguimos tus vídeos desde hace años , él está en el hospital le han diagnosticado una enfermedad incurable y solo se anima viendo vídeos, casi siempre se pone a verte comentar partidas si le pudieras mandar un abrazo en el próximo vídeo o un mensaje de ánimo mañana que es su cumpleaños  seguro que se emociona , te lo agradecería mucho ,él  se llama Ricardo muchas gracias😊\n",
      "Yo derroto a Carlsen\n",
      "5:10 sospechosa forma de flechas 🧐\n",
      "Una pregunta tonta... Y el actual \"Campeón del Mundo\"  Ding Liren ya gana alguna partida? 😁😁😁 estoy x ver una partida suya con el titulo, la cual haya ganado...\n",
      "A ese si k le dieron el titulo en la TÓMBOLA ggg\n",
      "Magnus gana nuevamente con el caballo lechugero como dice Juanjo hay que eliminarlo porque son muy peligrosos.\n",
      "Vaya partidazo de Carlsen. Se nota que está motivado\n",
      "Jamas dejara de sorprenderme Magnus Carlsen\n",
      "IMAGINO QUE SI TU JUGARAS CONTRA CARLSEN O CARUANA LOS CEPILLAS EN UN SANTIAMEN, CREO NO SE ME PARECE PORQUE CUANDO MUEVEN UNA PIEZA TU DICES QUE HUBIESE SIDO MEJOR OTRA JUGADA ETC, ETC ERES UN MONSTRUO QUE ELO TIENES? 3800 O 4200 ALGO ASI O NO?\n",
      "pareciera ser que si magnus quiere es imparable\n",
      "Se que era cuestion  de tiempo pero ,cuando le hace jaque al final con dama si en vez de mover el rey cubre con alfil .\n",
      "Gracias Juanjo\n",
      "la ultima partida de carlsen la de hoy es brutal\n",
      "Palizon tremendo el q le dió carlens a caruana\n",
      "Saludos Juanjo\n",
      "Juanjo cuando sera la final? De carlsen contra abddub\n",
      "ufff Magnus juega en otra liga; y a diferencia de la mayoría de los campeones anteriores, produce además partidas brutalmente emocionantes; últimamente cada partida que juega tiene literalmente algo memorable, histórico: la mejor jugada de todos los tiempos; el mejor final de todos los tiempos, y hasta en ésta, un regreso impensable: parecía estar perdido y regresó de la nada\n"
     ]
    }
   ],
   "source": [
    "\"\"\"Obtener comentarios del video\"\"\"\n",
    "# Extraer el ID del video de la URL\n",
    "url = \"https://www.youtube.com/watch?v=6wQx52edorY\"\n",
    "video_id = url.split('=')[1]\n",
    "\n",
    "# Llamada a la API para obtener los comentarios\n",
    "comments = youtube.commentThreads().list(\n",
    "    part='snippet',\n",
    "    videoId=video_id,\n",
    "    textFormat='plainText'\n",
    ").execute()\n",
    "\n",
    "# Recorrer los comentarios obtenidos e imprimir su contenido\n",
    "for comment in comments['items']:\n",
    "    text = comment['snippet']['topLevelComment']['snippet']['textDisplay']\n",
    "    print(text)"
   ]
  },
  {
   "cell_type": "code",
   "execution_count": null,
   "id": "d83df8c4",
   "metadata": {},
   "outputs": [],
   "source": []
  }
 ],
 "metadata": {
  "kernelspec": {
   "display_name": "Python 3 (ipykernel)",
   "language": "python",
   "name": "python3"
  },
  "language_info": {
   "codemirror_mode": {
    "name": "ipython",
    "version": 3
   },
   "file_extension": ".py",
   "mimetype": "text/x-python",
   "name": "python",
   "nbconvert_exporter": "python",
   "pygments_lexer": "ipython3",
   "version": "3.9.13"
  }
 },
 "nbformat": 4,
 "nbformat_minor": 5
}
